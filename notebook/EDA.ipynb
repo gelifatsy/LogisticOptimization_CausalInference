{
 "cells": [
  {
   "cell_type": "markdown",
   "metadata": {},
   "source": [
    "## EDA"
   ]
  },
  {
   "cell_type": "code",
   "execution_count": 1,
   "metadata": {},
   "outputs": [],
   "source": [
    "import pandas as pd\n",
    "import sys, os\n",
    "\n",
    "sys.path.append(os.path.abspath(os.path.join('../utils')))"
   ]
  },
  {
   "cell_type": "code",
   "execution_count": null,
   "metadata": {},
   "outputs": [],
   "source": []
  },
  {
   "cell_type": "code",
   "execution_count": 2,
   "metadata": {},
   "outputs": [],
   "source": [
    "from eda_helpers import EDA\n",
    "from data_processing import DataProcessor\n",
    "from plot import Plotter"
   ]
  },
  {
   "cell_type": "code",
   "execution_count": 3,
   "metadata": {},
   "outputs": [],
   "source": [
    "eda = EDA('../data/processed')\n",
    "eda.load_cleaned_data()\n",
    "plotter=Plotter()"
   ]
  },
  {
   "cell_type": "code",
   "execution_count": 4,
   "metadata": {},
   "outputs": [],
   "source": [
    "data_processer=DataProcessor()"
   ]
  },
  {
   "cell_type": "code",
   "execution_count": 5,
   "metadata": {},
   "outputs": [],
   "source": [
    "\n",
    "cleaned_trips_df = eda.cleaned_trip\n",
    "cleaned_requests_df = eda.cleaned_requests"
   ]
  },
  {
   "cell_type": "code",
   "execution_count": 6,
   "metadata": {},
   "outputs": [
    {
     "data": {
      "text/html": [
       "<div>\n",
       "<style scoped>\n",
       "    .dataframe tbody tr th:only-of-type {\n",
       "        vertical-align: middle;\n",
       "    }\n",
       "\n",
       "    .dataframe tbody tr th {\n",
       "        vertical-align: top;\n",
       "    }\n",
       "\n",
       "    .dataframe thead th {\n",
       "        text-align: right;\n",
       "    }\n",
       "</style>\n",
       "<table border=\"1\" class=\"dataframe\">\n",
       "  <thead>\n",
       "    <tr style=\"text-align: right;\">\n",
       "      <th></th>\n",
       "      <th>order_id</th>\n",
       "      <th>Trip Origin</th>\n",
       "      <th>Trip Destination</th>\n",
       "      <th>Trip Start Time</th>\n",
       "      <th>Trip End Time</th>\n",
       "    </tr>\n",
       "  </thead>\n",
       "  <tbody>\n",
       "    <tr>\n",
       "      <th>0</th>\n",
       "      <td>391996</td>\n",
       "      <td>6.508813001668548,3.37740316890347</td>\n",
       "      <td>6.650969799999999,3.3450307</td>\n",
       "      <td>2021-07-01 07:28:04</td>\n",
       "      <td>2021-07-01 07:29:37</td>\n",
       "    </tr>\n",
       "    <tr>\n",
       "      <th>1</th>\n",
       "      <td>391997</td>\n",
       "      <td>6.4316714,3.4555375</td>\n",
       "      <td>6.4280814653326,3.4721885847586</td>\n",
       "      <td>2021-07-01 06:38:04</td>\n",
       "      <td>2021-07-01 07:07:28</td>\n",
       "    </tr>\n",
       "    <tr>\n",
       "      <th>2</th>\n",
       "      <td>391998</td>\n",
       "      <td>6.631679399999999,3.3388976</td>\n",
       "      <td>6.508324099999999,3.3590397</td>\n",
       "      <td>2021-07-01 06:21:02</td>\n",
       "      <td>2021-07-01 07:02:23</td>\n",
       "    </tr>\n",
       "    <tr>\n",
       "      <th>3</th>\n",
       "      <td>391999</td>\n",
       "      <td>6.572757200000001,3.3677082</td>\n",
       "      <td>6.584881099999999,3.3614073</td>\n",
       "      <td>2021-07-01 07:16:07</td>\n",
       "      <td>2021-07-01 07:29:42</td>\n",
       "    </tr>\n",
       "    <tr>\n",
       "      <th>4</th>\n",
       "      <td>392001</td>\n",
       "      <td>6.6010417,3.2766339</td>\n",
       "      <td>6.4501069,3.3916154</td>\n",
       "      <td>2021-07-01 09:30:59</td>\n",
       "      <td>2021-07-01 09:34:36</td>\n",
       "    </tr>\n",
       "    <tr>\n",
       "      <th>...</th>\n",
       "      <td>...</td>\n",
       "      <td>...</td>\n",
       "      <td>...</td>\n",
       "      <td>...</td>\n",
       "      <td>...</td>\n",
       "    </tr>\n",
       "    <tr>\n",
       "      <th>534363</th>\n",
       "      <td>1637696</td>\n",
       "      <td>6.448218499999999,3.4772075</td>\n",
       "      <td>6.437787399999999,3.481670199999999</td>\n",
       "      <td>2021-12-30 20:35:06</td>\n",
       "      <td>2021-12-30 21:02:59</td>\n",
       "    </tr>\n",
       "    <tr>\n",
       "      <th>534364</th>\n",
       "      <td>1637702</td>\n",
       "      <td>6.442320899999999,3.4736868</td>\n",
       "      <td>6.436589333407897,3.5559738188407835</td>\n",
       "      <td>2021-12-30 20:48:13</td>\n",
       "      <td>2021-12-30 21:43:49</td>\n",
       "    </tr>\n",
       "    <tr>\n",
       "      <th>534365</th>\n",
       "      <td>1637704</td>\n",
       "      <td>6.4281982,3.492248</td>\n",
       "      <td>6.448088500000001,3.4775747</td>\n",
       "      <td>2021-12-30 20:51:45</td>\n",
       "      <td>2021-12-30 21:41:32</td>\n",
       "    </tr>\n",
       "    <tr>\n",
       "      <th>534366</th>\n",
       "      <td>1637705</td>\n",
       "      <td>6.5869296,3.3632966</td>\n",
       "      <td>6.637906899999999,3.3339515</td>\n",
       "      <td>2021-12-30 20:48:50</td>\n",
       "      <td>2021-12-30 21:08:28</td>\n",
       "    </tr>\n",
       "    <tr>\n",
       "      <th>534367</th>\n",
       "      <td>1637709</td>\n",
       "      <td>6.647209999999999,3.4851489</td>\n",
       "      <td>6.454915198823159,3.555839938365194</td>\n",
       "      <td>2021-12-30 20:55:38</td>\n",
       "      <td>2021-12-30 22:25:00</td>\n",
       "    </tr>\n",
       "  </tbody>\n",
       "</table>\n",
       "<p>534368 rows × 5 columns</p>\n",
       "</div>"
      ],
      "text/plain": [
       "        order_id                         Trip Origin  \\\n",
       "0         391996  6.508813001668548,3.37740316890347   \n",
       "1         391997                 6.4316714,3.4555375   \n",
       "2         391998         6.631679399999999,3.3388976   \n",
       "3         391999         6.572757200000001,3.3677082   \n",
       "4         392001                 6.6010417,3.2766339   \n",
       "...          ...                                 ...   \n",
       "534363   1637696         6.448218499999999,3.4772075   \n",
       "534364   1637702         6.442320899999999,3.4736868   \n",
       "534365   1637704                  6.4281982,3.492248   \n",
       "534366   1637705                 6.5869296,3.3632966   \n",
       "534367   1637709         6.647209999999999,3.4851489   \n",
       "\n",
       "                            Trip Destination      Trip Start Time  \\\n",
       "0                6.650969799999999,3.3450307  2021-07-01 07:28:04   \n",
       "1            6.4280814653326,3.4721885847586  2021-07-01 06:38:04   \n",
       "2                6.508324099999999,3.3590397  2021-07-01 06:21:02   \n",
       "3                6.584881099999999,3.3614073  2021-07-01 07:16:07   \n",
       "4                        6.4501069,3.3916154  2021-07-01 09:30:59   \n",
       "...                                      ...                  ...   \n",
       "534363   6.437787399999999,3.481670199999999  2021-12-30 20:35:06   \n",
       "534364  6.436589333407897,3.5559738188407835  2021-12-30 20:48:13   \n",
       "534365           6.448088500000001,3.4775747  2021-12-30 20:51:45   \n",
       "534366           6.637906899999999,3.3339515  2021-12-30 20:48:50   \n",
       "534367   6.454915198823159,3.555839938365194  2021-12-30 20:55:38   \n",
       "\n",
       "              Trip End Time  \n",
       "0       2021-07-01 07:29:37  \n",
       "1       2021-07-01 07:07:28  \n",
       "2       2021-07-01 07:02:23  \n",
       "3       2021-07-01 07:29:42  \n",
       "4       2021-07-01 09:34:36  \n",
       "...                     ...  \n",
       "534363  2021-12-30 21:02:59  \n",
       "534364  2021-12-30 21:43:49  \n",
       "534365  2021-12-30 21:41:32  \n",
       "534366  2021-12-30 21:08:28  \n",
       "534367  2021-12-30 22:25:00  \n",
       "\n",
       "[534368 rows x 5 columns]"
      ]
     },
     "execution_count": 6,
     "metadata": {},
     "output_type": "execute_result"
    }
   ],
   "source": [
    "cleaned_trips_df"
   ]
  },
  {
   "cell_type": "code",
   "execution_count": 7,
   "metadata": {},
   "outputs": [
    {
     "data": {
      "text/html": [
       "<div>\n",
       "<style scoped>\n",
       "    .dataframe tbody tr th:only-of-type {\n",
       "        vertical-align: middle;\n",
       "    }\n",
       "\n",
       "    .dataframe tbody tr th {\n",
       "        vertical-align: top;\n",
       "    }\n",
       "\n",
       "    .dataframe thead th {\n",
       "        text-align: right;\n",
       "    }\n",
       "</style>\n",
       "<table border=\"1\" class=\"dataframe\">\n",
       "  <thead>\n",
       "    <tr style=\"text-align: right;\">\n",
       "      <th></th>\n",
       "      <th>id</th>\n",
       "      <th>order_id</th>\n",
       "      <th>driver_id</th>\n",
       "      <th>driver_action</th>\n",
       "      <th>lat</th>\n",
       "      <th>lng</th>\n",
       "    </tr>\n",
       "  </thead>\n",
       "  <tbody>\n",
       "    <tr>\n",
       "      <th>0</th>\n",
       "      <td>1</td>\n",
       "      <td>392001</td>\n",
       "      <td>243828</td>\n",
       "      <td>accepted</td>\n",
       "      <td>6.602207</td>\n",
       "      <td>3.270465</td>\n",
       "    </tr>\n",
       "    <tr>\n",
       "      <th>1</th>\n",
       "      <td>2</td>\n",
       "      <td>392001</td>\n",
       "      <td>243588</td>\n",
       "      <td>rejected</td>\n",
       "      <td>6.592097</td>\n",
       "      <td>3.287445</td>\n",
       "    </tr>\n",
       "    <tr>\n",
       "      <th>2</th>\n",
       "      <td>3</td>\n",
       "      <td>392001</td>\n",
       "      <td>243830</td>\n",
       "      <td>rejected</td>\n",
       "      <td>6.596133</td>\n",
       "      <td>3.281784</td>\n",
       "    </tr>\n",
       "    <tr>\n",
       "      <th>3</th>\n",
       "      <td>4</td>\n",
       "      <td>392001</td>\n",
       "      <td>243539</td>\n",
       "      <td>rejected</td>\n",
       "      <td>6.596142</td>\n",
       "      <td>3.280526</td>\n",
       "    </tr>\n",
       "    <tr>\n",
       "      <th>4</th>\n",
       "      <td>5</td>\n",
       "      <td>392001</td>\n",
       "      <td>171653</td>\n",
       "      <td>rejected</td>\n",
       "      <td>6.609232</td>\n",
       "      <td>3.288800</td>\n",
       "    </tr>\n",
       "    <tr>\n",
       "      <th>...</th>\n",
       "      <td>...</td>\n",
       "      <td>...</td>\n",
       "      <td>...</td>\n",
       "      <td>...</td>\n",
       "      <td>...</td>\n",
       "      <td>...</td>\n",
       "    </tr>\n",
       "    <tr>\n",
       "      <th>1557735</th>\n",
       "      <td>1557736</td>\n",
       "      <td>517948</td>\n",
       "      <td>243774</td>\n",
       "      <td>rejected</td>\n",
       "      <td>6.469036</td>\n",
       "      <td>3.566877</td>\n",
       "    </tr>\n",
       "    <tr>\n",
       "      <th>1557736</th>\n",
       "      <td>1557737</td>\n",
       "      <td>517948</td>\n",
       "      <td>245447</td>\n",
       "      <td>rejected</td>\n",
       "      <td>6.425431</td>\n",
       "      <td>3.527358</td>\n",
       "    </tr>\n",
       "    <tr>\n",
       "      <th>1557737</th>\n",
       "      <td>1557738</td>\n",
       "      <td>517948</td>\n",
       "      <td>239866</td>\n",
       "      <td>rejected</td>\n",
       "      <td>6.440013</td>\n",
       "      <td>3.525378</td>\n",
       "    </tr>\n",
       "    <tr>\n",
       "      <th>1557738</th>\n",
       "      <td>1557739</td>\n",
       "      <td>517948</td>\n",
       "      <td>243774</td>\n",
       "      <td>rejected</td>\n",
       "      <td>6.469036</td>\n",
       "      <td>3.566877</td>\n",
       "    </tr>\n",
       "    <tr>\n",
       "      <th>1557739</th>\n",
       "      <td>1557740</td>\n",
       "      <td>517948</td>\n",
       "      <td>244170</td>\n",
       "      <td>rejected</td>\n",
       "      <td>6.469390</td>\n",
       "      <td>3.572079</td>\n",
       "    </tr>\n",
       "  </tbody>\n",
       "</table>\n",
       "<p>1557740 rows × 6 columns</p>\n",
       "</div>"
      ],
      "text/plain": [
       "              id  order_id  driver_id driver_action       lat       lng\n",
       "0              1    392001     243828      accepted  6.602207  3.270465\n",
       "1              2    392001     243588      rejected  6.592097  3.287445\n",
       "2              3    392001     243830      rejected  6.596133  3.281784\n",
       "3              4    392001     243539      rejected  6.596142  3.280526\n",
       "4              5    392001     171653      rejected  6.609232  3.288800\n",
       "...          ...       ...        ...           ...       ...       ...\n",
       "1557735  1557736    517948     243774      rejected  6.469036  3.566877\n",
       "1557736  1557737    517948     245447      rejected  6.425431  3.527358\n",
       "1557737  1557738    517948     239866      rejected  6.440013  3.525378\n",
       "1557738  1557739    517948     243774      rejected  6.469036  3.566877\n",
       "1557739  1557740    517948     244170      rejected  6.469390  3.572079\n",
       "\n",
       "[1557740 rows x 6 columns]"
      ]
     },
     "execution_count": 7,
     "metadata": {},
     "output_type": "execute_result"
    }
   ],
   "source": [
    "cleaned_requests_df"
   ]
  },
  {
   "cell_type": "markdown",
   "metadata": {},
   "source": [
    "## Weekend or Weekdays"
   ]
  },
  {
   "cell_type": "code",
   "execution_count": 8,
   "metadata": {},
   "outputs": [],
   "source": [
    "cleaned_trips_df['is_weekend'] = cleaned_trips_df['Trip Start Time'].apply(lambda x: data_processer.isWeekend(x))"
   ]
  },
  {
   "cell_type": "code",
   "execution_count": 9,
   "metadata": {},
   "outputs": [
    {
     "data": {
      "text/plain": [
       "is_weekend\n",
       "0    427181\n",
       "1    107187\n",
       "Name: count, dtype: int64"
      ]
     },
     "execution_count": 9,
     "metadata": {},
     "output_type": "execute_result"
    }
   ],
   "source": [
    "cleaned_trips_df['is_weekend'].value_counts()"
   ]
  },
  {
   "cell_type": "markdown",
   "metadata": {},
   "source": [
    "## chart for weekend"
   ]
  },
  {
   "cell_type": "code",
   "execution_count": 10,
   "metadata": {},
   "outputs": [
    {
     "data": {
      "image/png": "[encoded data removed]",
      "text/plain": [
       "<Figure size 1200x700 with 1 Axes>"
      ]
     },
     "metadata": {},
     "output_type": "display_data"
    }
   ],
   "source": [
    "plotter.plot_count(cleaned_trips_df, 'is_weekend')"
   ]
  },
  {
   "cell_type": "markdown",
   "metadata": {},
   "source": [
    "## Holiday or not Holiday"
   ]
  },
  {
   "cell_type": "code",
   "execution_count": 11,
   "metadata": {},
   "outputs": [
    {
     "name": "stdout",
     "output_type": "stream",
     "text": [
      "Date: 2021-01-01, Holiday: New Year's Day\n",
      "Date: 2021-04-02, Holiday: Good Friday\n",
      "Date: 2021-04-05, Holiday: Easter Monday\n",
      "Date: 2021-05-01, Holiday: Workers' Day\n",
      "Date: 2021-05-03, Holiday: Workers' Day (observed)\n",
      "Date: 2021-05-13, Holiday: Eid-el-Fitr (estimated)\n",
      "Date: 2021-05-14, Holiday: Eid-el-Fitr Holiday (estimated)\n",
      "Date: 2021-06-12, Holiday: Democracy Day\n",
      "Date: 2021-06-14, Holiday: Democracy Day (observed)\n",
      "Date: 2021-07-20, Holiday: Eid-el-Kabir (estimated)\n",
      "Date: 2021-07-21, Holiday: Eid-el-Kabir Holiday (estimated)\n",
      "Date: 2021-10-01, Holiday: Independence Day\n",
      "Date: 2021-10-18, Holiday: Eid-el-Mawlid (estimated)\n",
      "Date: 2021-12-25, Holiday: Christmas Day\n",
      "Date: 2021-12-26, Holiday: Boxing Day\n",
      "Date: 2021-12-27, Holiday: Christmas Day (observed)\n",
      "Date: 2021-12-28, Holiday: Boxing Day (observed)\n",
      "Total number of holidays in 2021: 17\n"
     ]
    }
   ],
   "source": [
    "data_processer.print_holidays_in_year(2021)"
   ]
  },
  {
   "cell_type": "code",
   "execution_count": 12,
   "metadata": {},
   "outputs": [],
   "source": [
    "cleaned_trips_df['is_holiday'] = cleaned_trips_df['Trip Start Time'].apply(lambda x: data_processer.isHoliday(x))"
   ]
  },
  {
   "cell_type": "code",
   "execution_count": 13,
   "metadata": {},
   "outputs": [
    {
     "data": {
      "text/plain": [
       "is_holiday\n",
       "0    518151\n",
       "1     16217\n",
       "Name: count, dtype: int64"
      ]
     },
     "execution_count": 13,
     "metadata": {},
     "output_type": "execute_result"
    }
   ],
   "source": [
    "cleaned_trips_df['is_holiday'].value_counts()"
   ]
  },
  {
   "cell_type": "code",
   "execution_count": 14,
   "metadata": {},
   "outputs": [
    {
     "data": {
      "image/png": "[encoded data removed]",
      "text/plain": [
       "<Figure size 1200x700 with 1 Axes>"
      ]
     },
     "metadata": {},
     "output_type": "display_data"
    }
   ],
   "source": [
    "plotter.plot_count(cleaned_trips_df, 'is_holiday')"
   ]
  },
  {
   "cell_type": "markdown",
   "metadata": {},
   "source": [
    "## Weather"
   ]
  },
  {
   "cell_type": "markdown",
   "metadata": {},
   "source": [
    "## Extracting Distance from Start and End Cordinates"
   ]
  },
  {
   "cell_type": "code",
   "execution_count": 15,
   "metadata": {},
   "outputs": [],
   "source": [
    "start_coordinates = cleaned_trips_df['Trip Origin'].tolist()\n",
    "end_coordinates = cleaned_trips_df['Trip Destination'].tolist()\n"
   ]
  },
  {
   "cell_type": "code",
   "execution_count": 16,
   "metadata": {},
   "outputs": [],
   "source": [
    "cleaned_trips_df['distance'] = data_processer.calculate_distances(start_coordinates, end_coordinates)"
   ]
  },
  {
   "cell_type": "code",
   "execution_count": 17,
   "metadata": {},
   "outputs": [
    {
     "data": {
      "text/html": [
       "<div>\n",
       "<style scoped>\n",
       "    .dataframe tbody tr th:only-of-type {\n",
       "        vertical-align: middle;\n",
       "    }\n",
       "\n",
       "    .dataframe tbody tr th {\n",
       "        vertical-align: top;\n",
       "    }\n",
       "\n",
       "    .dataframe thead th {\n",
       "        text-align: right;\n",
       "    }\n",
       "</style>\n",
       "<table border=\"1\" class=\"dataframe\">\n",
       "  <thead>\n",
       "    <tr style=\"text-align: right;\">\n",
       "      <th></th>\n",
       "      <th>order_id</th>\n",
       "      <th>Trip Origin</th>\n",
       "      <th>Trip Destination</th>\n",
       "      <th>Trip Start Time</th>\n",
       "      <th>Trip End Time</th>\n",
       "      <th>is_weekend</th>\n",
       "      <th>is_holiday</th>\n",
       "      <th>distance</th>\n",
       "    </tr>\n",
       "  </thead>\n",
       "  <tbody>\n",
       "    <tr>\n",
       "      <th>0</th>\n",
       "      <td>391996</td>\n",
       "      <td>6.508813001668548,3.37740316890347</td>\n",
       "      <td>6.650969799999999,3.3450307</td>\n",
       "      <td>2021-07-01 07:28:04</td>\n",
       "      <td>2021-07-01 07:29:37</td>\n",
       "      <td>0</td>\n",
       "      <td>0</td>\n",
       "      <td>16.123451</td>\n",
       "    </tr>\n",
       "    <tr>\n",
       "      <th>1</th>\n",
       "      <td>391997</td>\n",
       "      <td>6.4316714,3.4555375</td>\n",
       "      <td>6.4280814653326,3.4721885847586</td>\n",
       "      <td>2021-07-01 06:38:04</td>\n",
       "      <td>2021-07-01 07:07:28</td>\n",
       "      <td>0</td>\n",
       "      <td>0</td>\n",
       "      <td>1.884305</td>\n",
       "    </tr>\n",
       "    <tr>\n",
       "      <th>2</th>\n",
       "      <td>391998</td>\n",
       "      <td>6.631679399999999,3.3388976</td>\n",
       "      <td>6.508324099999999,3.3590397</td>\n",
       "      <td>2021-07-01 06:21:02</td>\n",
       "      <td>2021-07-01 07:02:23</td>\n",
       "      <td>0</td>\n",
       "      <td>0</td>\n",
       "      <td>13.822393</td>\n",
       "    </tr>\n",
       "    <tr>\n",
       "      <th>3</th>\n",
       "      <td>391999</td>\n",
       "      <td>6.572757200000001,3.3677082</td>\n",
       "      <td>6.584881099999999,3.3614073</td>\n",
       "      <td>2021-07-01 07:16:07</td>\n",
       "      <td>2021-07-01 07:29:42</td>\n",
       "      <td>0</td>\n",
       "      <td>0</td>\n",
       "      <td>1.511034</td>\n",
       "    </tr>\n",
       "    <tr>\n",
       "      <th>4</th>\n",
       "      <td>392001</td>\n",
       "      <td>6.6010417,3.2766339</td>\n",
       "      <td>6.4501069,3.3916154</td>\n",
       "      <td>2021-07-01 09:30:59</td>\n",
       "      <td>2021-07-01 09:34:36</td>\n",
       "      <td>0</td>\n",
       "      <td>0</td>\n",
       "      <td>20.984319</td>\n",
       "    </tr>\n",
       "    <tr>\n",
       "      <th>...</th>\n",
       "      <td>...</td>\n",
       "      <td>...</td>\n",
       "      <td>...</td>\n",
       "      <td>...</td>\n",
       "      <td>...</td>\n",
       "      <td>...</td>\n",
       "      <td>...</td>\n",
       "      <td>...</td>\n",
       "    </tr>\n",
       "    <tr>\n",
       "      <th>534363</th>\n",
       "      <td>1637696</td>\n",
       "      <td>6.448218499999999,3.4772075</td>\n",
       "      <td>6.437787399999999,3.481670199999999</td>\n",
       "      <td>2021-12-30 20:35:06</td>\n",
       "      <td>2021-12-30 21:02:59</td>\n",
       "      <td>0</td>\n",
       "      <td>0</td>\n",
       "      <td>1.254752</td>\n",
       "    </tr>\n",
       "    <tr>\n",
       "      <th>534364</th>\n",
       "      <td>1637702</td>\n",
       "      <td>6.442320899999999,3.4736868</td>\n",
       "      <td>6.436589333407897,3.5559738188407835</td>\n",
       "      <td>2021-12-30 20:48:13</td>\n",
       "      <td>2021-12-30 21:43:49</td>\n",
       "      <td>0</td>\n",
       "      <td>0</td>\n",
       "      <td>9.124781</td>\n",
       "    </tr>\n",
       "    <tr>\n",
       "      <th>534365</th>\n",
       "      <td>1637704</td>\n",
       "      <td>6.4281982,3.492248</td>\n",
       "      <td>6.448088500000001,3.4775747</td>\n",
       "      <td>2021-12-30 20:51:45</td>\n",
       "      <td>2021-12-30 21:41:32</td>\n",
       "      <td>0</td>\n",
       "      <td>0</td>\n",
       "      <td>2.733704</td>\n",
       "    </tr>\n",
       "    <tr>\n",
       "      <th>534366</th>\n",
       "      <td>1637705</td>\n",
       "      <td>6.5869296,3.3632966</td>\n",
       "      <td>6.637906899999999,3.3339515</td>\n",
       "      <td>2021-12-30 20:48:50</td>\n",
       "      <td>2021-12-30 21:08:28</td>\n",
       "      <td>0</td>\n",
       "      <td>0</td>\n",
       "      <td>6.504796</td>\n",
       "    </tr>\n",
       "    <tr>\n",
       "      <th>534367</th>\n",
       "      <td>1637709</td>\n",
       "      <td>6.647209999999999,3.4851489</td>\n",
       "      <td>6.454915198823159,3.555839938365194</td>\n",
       "      <td>2021-12-30 20:55:38</td>\n",
       "      <td>2021-12-30 22:25:00</td>\n",
       "      <td>0</td>\n",
       "      <td>0</td>\n",
       "      <td>22.657280</td>\n",
       "    </tr>\n",
       "  </tbody>\n",
       "</table>\n",
       "<p>534368 rows × 8 columns</p>\n",
       "</div>"
      ],
      "text/plain": [
       "        order_id                         Trip Origin  \\\n",
       "0         391996  6.508813001668548,3.37740316890347   \n",
       "1         391997                 6.4316714,3.4555375   \n",
       "2         391998         6.631679399999999,3.3388976   \n",
       "3         391999         6.572757200000001,3.3677082   \n",
       "4         392001                 6.6010417,3.2766339   \n",
       "...          ...                                 ...   \n",
       "534363   1637696         6.448218499999999,3.4772075   \n",
       "534364   1637702         6.442320899999999,3.4736868   \n",
       "534365   1637704                  6.4281982,3.492248   \n",
       "534366   1637705                 6.5869296,3.3632966   \n",
       "534367   1637709         6.647209999999999,3.4851489   \n",
       "\n",
       "                            Trip Destination      Trip Start Time  \\\n",
       "0                6.650969799999999,3.3450307  2021-07-01 07:28:04   \n",
       "1            6.4280814653326,3.4721885847586  2021-07-01 06:38:04   \n",
       "2                6.508324099999999,3.3590397  2021-07-01 06:21:02   \n",
       "3                6.584881099999999,3.3614073  2021-07-01 07:16:07   \n",
       "4                        6.4501069,3.3916154  2021-07-01 09:30:59   \n",
       "...                                      ...                  ...   \n",
       "534363   6.437787399999999,3.481670199999999  2021-12-30 20:35:06   \n",
       "534364  6.436589333407897,3.5559738188407835  2021-12-30 20:48:13   \n",
       "534365           6.448088500000001,3.4775747  2021-12-30 20:51:45   \n",
       "534366           6.637906899999999,3.3339515  2021-12-30 20:48:50   \n",
       "534367   6.454915198823159,3.555839938365194  2021-12-30 20:55:38   \n",
       "\n",
       "              Trip End Time  is_weekend  is_holiday   distance  \n",
       "0       2021-07-01 07:29:37           0           0  16.123451  \n",
       "1       2021-07-01 07:07:28           0           0   1.884305  \n",
       "2       2021-07-01 07:02:23           0           0  13.822393  \n",
       "3       2021-07-01 07:29:42           0           0   1.511034  \n",
       "4       2021-07-01 09:34:36           0           0  20.984319  \n",
       "...                     ...         ...         ...        ...  \n",
       "534363  2021-12-30 21:02:59           0           0   1.254752  \n",
       "534364  2021-12-30 21:43:49           0           0   9.124781  \n",
       "534365  2021-12-30 21:41:32           0           0   2.733704  \n",
       "534366  2021-12-30 21:08:28           0           0   6.504796  \n",
       "534367  2021-12-30 22:25:00           0           0  22.657280  \n",
       "\n",
       "[534368 rows x 8 columns]"
      ]
     },
     "execution_count": 17,
     "metadata": {},
     "output_type": "execute_result"
    }
   ],
   "source": [
    "cleaned_trips_df"
   ]
  },
  {
   "cell_type": "code",
   "execution_count": 18,
   "metadata": {},
   "outputs": [
    {
     "data": {
      "text/plain": [
       "distance\n",
       "2.467037     132\n",
       "0.000000     121\n",
       "8.040819     102\n",
       "17.456076     95\n",
       "22.388326     73\n",
       "            ... \n",
       "29.752133      1\n",
       "16.118600      1\n",
       "1.470260       1\n",
       "13.508368      1\n",
       "22.657280      1\n",
       "Name: count, Length: 466405, dtype: int64"
      ]
     },
     "execution_count": 18,
     "metadata": {},
     "output_type": "execute_result"
    }
   ],
   "source": [
    "cleaned_trips_df['distance'].value_counts()"
   ]
  },
  {
   "cell_type": "code",
   "execution_count": 19,
   "metadata": {},
   "outputs": [
    {
     "data": {
      "text/plain": [
       "count    534368.000000\n",
       "mean         12.099944\n",
       "std          11.025371\n",
       "min           0.000000\n",
       "25%           5.560137\n",
       "50%          10.510731\n",
       "75%          16.993866\n",
       "max         680.080847\n",
       "Name: distance, dtype: float64"
      ]
     },
     "execution_count": 19,
     "metadata": {},
     "output_type": "execute_result"
    }
   ],
   "source": [
    "cleaned_trips_df['distance'].describe()\n"
   ]
  },
  {
   "cell_type": "code",
   "execution_count": 20,
   "metadata": {},
   "outputs": [],
   "source": [
    "# Distribution of distances\n",
    "# plotter.plotly_plot_hist(cleaned_trips_df, 'distance')\n",
    "\n",
    "#too gig to display and push in this notebook"
   ]
  },
  {
   "cell_type": "code",
   "execution_count": 21,
   "metadata": {},
   "outputs": [
    {
     "name": "stderr",
     "output_type": "stream",
     "text": [
      "/home/elias/Documents/10 Academy/Casual Inference/LogisticOptimization_CausalInference/utils/plot.py:16: FutureWarning: The default of observed=False is deprecated and will be changed to True in a future version of pandas. Pass observed=False to retain current behavior or observed=True to adopt the future default and silence this warning.\n",
      "  a = pd.DataFrame({'count': df.groupby([column]).size()}).reset_index()\n"
     ]
    },
    {
     "data": {
      "application/vnd.plotly.v1+json": {
       "config": {
        "plotlyServerURL": "https://plot.ly"
       },
       "data": [
        {
         "domain": {
          "x": [
           0,
           1
          ],
          "y": [
           0,
           1
          ]
         },
         "hovertemplate": "distance_range=%{label}<br>count=%{value}<extra></extra>",
         "labels": [
          "10-20 km",
          "5-10 km",
          "0-5 km",
          "20-34 km",
          "35-50 km",
          "50-100 km",
          "more than 100 km"
         ],
         "legendgroup": "",
         "name": "",
         "showlegend": true,
         "type": "pie",
         "values": [
          188752,
          137479,
          116721,
          86276,
          4409,
          521,
          89
         ]
        }
       ],
       "layout": {
        "height": 500,
        "legend": {
         "tracegroupgap": 0
        },
        "template": {
         "data": {
          "bar": [
           {
            "error_x": {
             "color": "#2a3f5f"
            },
            "error_y": {
             "color": "#2a3f5f"
            },
            "marker": {
             "line": {
              "color": "#E5ECF6",
              "width": 0.5
             },
             "pattern": {
              "fillmode": "overlay",
              "size": 10,
              "solidity": 0.2
             }
            },
            "type": "bar"
           }
          ],
          "barpolar": [
           {
            "marker": {
             "line": {
              "color": "#E5ECF6",
              "width": 0.5
             },
             "pattern": {
              "fillmode": "overlay",
              "size": 10,
              "solidity": 0.2
             }
            },
            "type": "barpolar"
           }
          ],
          "carpet": [
           {
            "aaxis": {
             "endlinecolor": "#2a3f5f",
             "gridcolor": "white",
             "linecolor": "white",
             "minorgridcolor": "white",
             "startlinecolor": "#2a3f5f"
            },
            "baxis": {
             "endlinecolor": "#2a3f5f",
             "gridcolor": "white",
             "linecolor": "white",
             "minorgridcolor": "white",
             "startlinecolor": "#2a3f5f"
            },
            "type": "carpet"
           }
          ],
          "choropleth": [
           {
            "colorbar": {
             "outlinewidth": 0,
             "ticks": ""
            },
            "type": "choropleth"
           }
          ],
          "contour": [
           {
            "colorbar": {
             "outlinewidth": 0,
             "ticks": ""
            },
            "colorscale": [
             [
              0,
              "#0d0887"
             ],
             [
              0.1111111111111111,
              "#46039f"
             ],
             [
              0.2222222222222222,
              "#7201a8"
             ],
             [
              0.3333333333333333,
              "#9c179e"
             ],
             [
              0.4444444444444444,
              "#bd3786"
             ],
             [
              0.5555555555555556,
              "#d8576b"
             ],
             [
              0.6666666666666666,
              "#ed7953"
             ],
             [
              0.7777777777777778,
              "#fb9f3a"
             ],
             [
              0.8888888888888888,
              "#fdca26"
             ],
             [
              1,
              "#f0f921"
             ]
            ],
            "type": "contour"
           }
          ],
          "contourcarpet": [
           {
            "colorbar": {
             "outlinewidth": 0,
             "ticks": ""
            },
            "type": "contourcarpet"
           }
          ],
          "heatmap": [
           {
            "colorbar": {
             "outlinewidth": 0,
             "ticks": ""
            },
            "colorscale": [
             [
              0,
              "#0d0887"
             ],
             [
              0.1111111111111111,
              "#46039f"
             ],
             [
              0.2222222222222222,
              "#7201a8"
             ],
             [
              0.3333333333333333,
              "#9c179e"
             ],
             [
              0.4444444444444444,
              "#bd3786"
             ],
             [
              0.5555555555555556,
              "#d8576b"
             ],
             [
              0.6666666666666666,
              "#ed7953"
             ],
             [
              0.7777777777777778,
              "#fb9f3a"
             ],
             [
              0.8888888888888888,
              "#fdca26"
             ],
             [
              1,
              "#f0f921"
             ]
            ],
            "type": "heatmap"
           }
          ],
          "heatmapgl": [
           {
            "colorbar": {
             "outlinewidth": 0,
             "ticks": ""
            },
            "colorscale": [
             [
              0,
              "#0d0887"
             ],
             [
              0.1111111111111111,
              "#46039f"
             ],
             [
              0.2222222222222222,
              "#7201a8"
             ],
             [
              0.3333333333333333,
              "#9c179e"
             ],
             [
              0.4444444444444444,
              "#bd3786"
             ],
             [
              0.5555555555555556,
              "#d8576b"
             ],
             [
              0.6666666666666666,
              "#ed7953"
             ],
             [
              0.7777777777777778,
              "#fb9f3a"
             ],
             [
              0.8888888888888888,
              "#fdca26"
             ],
             [
              1,
              "#f0f921"
             ]
            ],
            "type": "heatmapgl"
           }
          ],
          "histogram": [
           {
            "marker": {
             "pattern": {
              "fillmode": "overlay",
              "size": 10,
              "solidity": 0.2
             }
            },
            "type": "histogram"
           }
          ],
          "histogram2d": [
           {
            "colorbar": {
             "outlinewidth": 0,
             "ticks": ""
            },
            "colorscale": [
             [
              0,
              "#0d0887"
             ],
             [
              0.1111111111111111,
              "#46039f"
             ],
             [
              0.2222222222222222,
              "#7201a8"
             ],
             [
              0.3333333333333333,
              "#9c179e"
             ],
             [
              0.4444444444444444,
              "#bd3786"
             ],
             [
              0.5555555555555556,
              "#d8576b"
             ],
             [
              0.6666666666666666,
              "#ed7953"
             ],
             [
              0.7777777777777778,
              "#fb9f3a"
             ],
             [
              0.8888888888888888,
              "#fdca26"
             ],
             [
              1,
              "#f0f921"
             ]
            ],
            "type": "histogram2d"
           }
          ],
          "histogram2dcontour": [
           {
            "colorbar": {
             "outlinewidth": 0,
             "ticks": ""
            },
            "colorscale": [
             [
              0,
              "#0d0887"
             ],
             [
              0.1111111111111111,
              "#46039f"
             ],
             [
              0.2222222222222222,
              "#7201a8"
             ],
             [
              0.3333333333333333,
              "#9c179e"
             ],
             [
              0.4444444444444444,
              "#bd3786"
             ],
             [
              0.5555555555555556,
              "#d8576b"
             ],
             [
              0.6666666666666666,
              "#ed7953"
             ],
             [
              0.7777777777777778,
              "#fb9f3a"
             ],
             [
              0.8888888888888888,
              "#fdca26"
             ],
             [
              1,
              "#f0f921"
             ]
            ],
            "type": "histogram2dcontour"
           }
          ],
          "mesh3d": [
           {
            "colorbar": {
             "outlinewidth": 0,
             "ticks": ""
            },
            "type": "mesh3d"
           }
          ],
          "parcoords": [
           {
            "line": {
             "colorbar": {
              "outlinewidth": 0,
              "ticks": ""
             }
            },
            "type": "parcoords"
           }
          ],
          "pie": [
           {
            "automargin": true,
            "type": "pie"
           }
          ],
          "scatter": [
           {
            "fillpattern": {
             "fillmode": "overlay",
             "size": 10,
             "solidity": 0.2
            },
            "type": "scatter"
           }
          ],
          "scatter3d": [
           {
            "line": {
             "colorbar": {
              "outlinewidth": 0,
              "ticks": ""
             }
            },
            "marker": {
             "colorbar": {
              "outlinewidth": 0,
              "ticks": ""
             }
            },
            "type": "scatter3d"
           }
          ],
          "scattercarpet": [
           {
            "marker": {
             "colorbar": {
              "outlinewidth": 0,
              "ticks": ""
             }
            },
            "type": "scattercarpet"
           }
          ],
          "scattergeo": [
           {
            "marker": {
             "colorbar": {
              "outlinewidth": 0,
              "ticks": ""
             }
            },
            "type": "scattergeo"
           }
          ],
          "scattergl": [
           {
            "marker": {
             "colorbar": {
              "outlinewidth": 0,
              "ticks": ""
             }
            },
            "type": "scattergl"
           }
          ],
          "scattermapbox": [
           {
            "marker": {
             "colorbar": {
              "outlinewidth": 0,
              "ticks": ""
             }
            },
            "type": "scattermapbox"
           }
          ],
          "scatterpolar": [
           {
            "marker": {
             "colorbar": {
              "outlinewidth": 0,
              "ticks": ""
             }
            },
            "type": "scatterpolar"
           }
          ],
          "scatterpolargl": [
           {
            "marker": {
             "colorbar": {
              "outlinewidth": 0,
              "ticks": ""
             }
            },
            "type": "scatterpolargl"
           }
          ],
          "scatterternary": [
           {
            "marker": {
             "colorbar": {
              "outlinewidth": 0,
              "ticks": ""
             }
            },
            "type": "scatterternary"
           }
          ],
          "surface": [
           {
            "colorbar": {
             "outlinewidth": 0,
             "ticks": ""
            },
            "colorscale": [
             [
              0,
              "#0d0887"
             ],
             [
              0.1111111111111111,
              "#46039f"
             ],
             [
              0.2222222222222222,
              "#7201a8"
             ],
             [
              0.3333333333333333,
              "#9c179e"
             ],
             [
              0.4444444444444444,
              "#bd3786"
             ],
             [
              0.5555555555555556,
              "#d8576b"
             ],
             [
              0.6666666666666666,
              "#ed7953"
             ],
             [
              0.7777777777777778,
              "#fb9f3a"
             ],
             [
              0.8888888888888888,
              "#fdca26"
             ],
             [
              1,
              "#f0f921"
             ]
            ],
            "type": "surface"
           }
          ],
          "table": [
           {
            "cells": {
             "fill": {
              "color": "#EBF0F8"
             },
             "line": {
              "color": "white"
             }
            },
            "header": {
             "fill": {
              "color": "#C8D4E3"
             },
             "line": {
              "color": "white"
             }
            },
            "type": "table"
           }
          ]
         },
         "layout": {
          "annotationdefaults": {
           "arrowcolor": "#2a3f5f",
           "arrowhead": 0,
           "arrowwidth": 1
          },
          "autotypenumbers": "strict",
          "coloraxis": {
           "colorbar": {
            "outlinewidth": 0,
            "ticks": ""
           }
          },
          "colorscale": {
           "diverging": [
            [
             0,
             "#8e0152"
            ],
            [
             0.1,
             "#c51b7d"
            ],
            [
             0.2,
             "#de77ae"
            ],
            [
             0.3,
             "#f1b6da"
            ],
            [
             0.4,
             "#fde0ef"
            ],
            [
             0.5,
             "#f7f7f7"
            ],
            [
             0.6,
             "#e6f5d0"
            ],
            [
             0.7,
             "#b8e186"
            ],
            [
             0.8,
             "#7fbc41"
            ],
            [
             0.9,
             "#4d9221"
            ],
            [
             1,
             "#276419"
            ]
           ],
           "sequential": [
            [
             0,
             "#0d0887"
            ],
            [
             0.1111111111111111,
             "#46039f"
            ],
            [
             0.2222222222222222,
             "#7201a8"
            ],
            [
             0.3333333333333333,
             "#9c179e"
            ],
            [
             0.4444444444444444,
             "#bd3786"
            ],
            [
             0.5555555555555556,
             "#d8576b"
            ],
            [
             0.6666666666666666,
             "#ed7953"
            ],
            [
             0.7777777777777778,
             "#fb9f3a"
            ],
            [
             0.8888888888888888,
             "#fdca26"
            ],
            [
             1,
             "#f0f921"
            ]
           ],
           "sequentialminus": [
            [
             0,
             "#0d0887"
            ],
            [
             0.1111111111111111,
             "#46039f"
            ],
            [
             0.2222222222222222,
             "#7201a8"
            ],
            [
             0.3333333333333333,
             "#9c179e"
            ],
            [
             0.4444444444444444,
             "#bd3786"
            ],
            [
             0.5555555555555556,
             "#d8576b"
            ],
            [
             0.6666666666666666,
             "#ed7953"
            ],
            [
             0.7777777777777778,
             "#fb9f3a"
            ],
            [
             0.8888888888888888,
             "#fdca26"
            ],
            [
             1,
             "#f0f921"
            ]
           ]
          },
          "colorway": [
           "#636efa",
           "#EF553B",
           "#00cc96",
           "#ab63fa",
           "#FFA15A",
           "#19d3f3",
           "#FF6692",
           "#B6E880",
           "#FF97FF",
           "#FECB52"
          ],
          "font": {
           "color": "#2a3f5f"
          },
          "geo": {
           "bgcolor": "white",
           "lakecolor": "white",
           "landcolor": "#E5ECF6",
           "showlakes": true,
           "showland": true,
           "subunitcolor": "white"
          },
          "hoverlabel": {
           "align": "left"
          },
          "hovermode": "closest",
          "mapbox": {
           "style": "light"
          },
          "paper_bgcolor": "white",
          "plot_bgcolor": "#E5ECF6",
          "polar": {
           "angularaxis": {
            "gridcolor": "white",
            "linecolor": "white",
            "ticks": ""
           },
           "bgcolor": "#E5ECF6",
           "radialaxis": {
            "gridcolor": "white",
            "linecolor": "white",
            "ticks": ""
           }
          },
          "scene": {
           "xaxis": {
            "backgroundcolor": "#E5ECF6",
            "gridcolor": "white",
            "gridwidth": 2,
            "linecolor": "white",
            "showbackground": true,
            "ticks": "",
            "zerolinecolor": "white"
           },
           "yaxis": {
            "backgroundcolor": "#E5ECF6",
            "gridcolor": "white",
            "gridwidth": 2,
            "linecolor": "white",
            "showbackground": true,
            "ticks": "",
            "zerolinecolor": "white"
           },
           "zaxis": {
            "backgroundcolor": "#E5ECF6",
            "gridcolor": "white",
            "gridwidth": 2,
            "linecolor": "white",
            "showbackground": true,
            "ticks": "",
            "zerolinecolor": "white"
           }
          },
          "shapedefaults": {
           "line": {
            "color": "#2a3f5f"
           }
          },
          "ternary": {
           "aaxis": {
            "gridcolor": "white",
            "linecolor": "white",
            "ticks": ""
           },
           "baxis": {
            "gridcolor": "white",
            "linecolor": "white",
            "ticks": ""
           },
           "bgcolor": "#E5ECF6",
           "caxis": {
            "gridcolor": "white",
            "linecolor": "white",
            "ticks": ""
           }
          },
          "title": {
           "x": 0.05
          },
          "xaxis": {
           "automargin": true,
           "gridcolor": "white",
           "linecolor": "white",
           "ticks": "",
           "title": {
            "standoff": 15
           },
           "zerolinecolor": "white",
           "zerolinewidth": 2
          },
          "yaxis": {
           "automargin": true,
           "gridcolor": "white",
           "linecolor": "white",
           "ticks": "",
           "title": {
            "standoff": 15
           },
           "zerolinecolor": "white",
           "zerolinewidth": 2
          }
         }
        },
        "title": {
         "text": "Distribution of distance_range"
        },
        "width": 800
       }
      }
     },
     "metadata": {},
     "output_type": "display_data"
    }
   ],
   "source": [
    "# Distance ranges\n",
    "temp_df = cleaned_trips_df.copy()\n",
    "temp_df['distance_range'] = pd.cut(temp_df['distance'], bins=[0, 5, 10, 20,35, 50, 100, float('inf')], labels=['0-5 km', '5-10 km', '10-20 km', '20-34 km', '35-50 km' ,'50-100 km', 'more than 100 km'])\n",
    "plotter.plotly_plot_pie(temp_df, 'distance_range')"
   ]
  },
  {
   "cell_type": "code",
   "execution_count": 22,
   "metadata": {},
   "outputs": [],
   "source": [
    "# plotter.plotly_plot_scatter(cleaned_trips_df, 'distance', 'order_id', 8)"
   ]
  },
  {
   "cell_type": "markdown",
   "metadata": {},
   "source": [
    "## Speed Extraction from distance and Start and End Time"
   ]
  },
  {
   "cell_type": "code",
   "execution_count": 23,
   "metadata": {},
   "outputs": [],
   "source": [
    "start_date_times = cleaned_trips_df['Trip Start Time'].tolist()\n",
    "end_date_times = cleaned_trips_df['Trip End Time'].tolist()\n",
    "distance_list = cleaned_trips_df['distance'].tolist()"
   ]
  },
  {
   "cell_type": "code",
   "execution_count": 24,
   "metadata": {},
   "outputs": [],
   "source": [
    "cleaned_trips_df['speed'] = data_processer.calculate_speeds(start_date_times, end_date_times, distance_list)"
   ]
  },
  {
   "cell_type": "code",
   "execution_count": 25,
   "metadata": {},
   "outputs": [
    {
     "data": {
      "text/plain": [
       "count    534368.000000\n",
       "mean         26.570109\n",
       "std         244.737556\n",
       "min           0.000000\n",
       "25%           6.876641\n",
       "50%          11.137487\n",
       "75%          16.815436\n",
       "max       66498.868759\n",
       "Name: speed, dtype: float64"
      ]
     },
     "execution_count": 25,
     "metadata": {},
     "output_type": "execute_result"
    }
   ],
   "source": [
    "cleaned_trips_df['speed'].describe()"
   ]
  },
  {
   "cell_type": "markdown",
   "metadata": {},
   "source": [
    "## Handeling Outliers\n",
    "\n",
    "We'll find trips where the distance traveled is too high compared to the time taken. This could mean an error in the data, like a motorbike traveling an impossible distance in a short time. We'll identify these unusual trips to ensure our data is accurate."
   ]
  },
  {
   "cell_type": "code",
   "execution_count": 26,
   "metadata": {},
   "outputs": [
    {
     "data": {
      "image/png": "[encoded data removed]",
      "text/plain": [
       "<Figure size 640x480 with 1 Axes>"
      ]
     },
     "metadata": {},
     "output_type": "display_data"
    }
   ],
   "source": [
    "import matplotlib.pyplot as plt\n",
    "\n",
    "plt.hist(cleaned_trips_df['distance'], bins=50)\n",
    "plt.xlabel('Distance')\n",
    "plt.ylabel('Frequency')\n",
    "plt.title('Distance Distribution')\n",
    "plt.show()"
   ]
  },
  {
   "cell_type": "code",
   "execution_count": 27,
   "metadata": {},
   "outputs": [
    {
     "name": "stdout",
     "output_type": "stream",
     "text": [
      "Lower bound for outliers: -11.59\n",
      "Upper bound for outliers: 34.14\n",
      "Data points above upper bound (34.14): 5948\n",
      "Data points below lower bound (-11.59): 0\n"
     ]
    }
   ],
   "source": [
    "data_processer.detect_outliers(cleaned_trips_df, \"distance\")\n",
    "data_processer.count_outliers(cleaned_trips_df, \"distance\")\n",
    "# plotter.plot_count(cleaned_trips_df, 'is_holiday')"
   ]
  },
  {
   "cell_type": "code",
   "execution_count": 28,
   "metadata": {},
   "outputs": [
    {
     "data": {
      "image/png": "[encoded data removed]",
      "text/plain": [
       "<Figure size 1200x700 with 1 Axes>"
      ]
     },
     "metadata": {},
     "output_type": "display_data"
    }
   ],
   "source": [
    "#   Visualising outliers in distance\n",
    "\n",
    "plotter.plot_box(cleaned_trips_df, \"distance\", f\"Boxplot of {'distance'} with Outliers\")"
   ]
  },
  {
   "cell_type": "code",
   "execution_count": 29,
   "metadata": {},
   "outputs": [],
   "source": [
    "df_distance_outliers = cleaned_trips_df[cleaned_trips_df['distance']>34.14]"
   ]
  },
  {
   "cell_type": "code",
   "execution_count": 30,
   "metadata": {},
   "outputs": [
    {
     "data": {
      "text/html": [
       "<div>\n",
       "<style scoped>\n",
       "    .dataframe tbody tr th:only-of-type {\n",
       "        vertical-align: middle;\n",
       "    }\n",
       "\n",
       "    .dataframe tbody tr th {\n",
       "        vertical-align: top;\n",
       "    }\n",
       "\n",
       "    .dataframe thead th {\n",
       "        text-align: right;\n",
       "    }\n",
       "</style>\n",
       "<table border=\"1\" class=\"dataframe\">\n",
       "  <thead>\n",
       "    <tr style=\"text-align: right;\">\n",
       "      <th></th>\n",
       "      <th>order_id</th>\n",
       "      <th>Trip Start Time</th>\n",
       "      <th>Trip End Time</th>\n",
       "      <th>distance</th>\n",
       "      <th>speed</th>\n",
       "    </tr>\n",
       "  </thead>\n",
       "  <tbody>\n",
       "    <tr>\n",
       "      <th>20</th>\n",
       "      <td>392040</td>\n",
       "      <td>2021-07-01 10:15:03</td>\n",
       "      <td>2021-07-01 13:52:01</td>\n",
       "      <td>35.223180</td>\n",
       "      <td>9.740624</td>\n",
       "    </tr>\n",
       "    <tr>\n",
       "      <th>132</th>\n",
       "      <td>392276</td>\n",
       "      <td>2021-07-01 08:27:57</td>\n",
       "      <td>2021-07-01 10:10:38</td>\n",
       "      <td>38.145450</td>\n",
       "      <td>22.289177</td>\n",
       "    </tr>\n",
       "    <tr>\n",
       "      <th>517</th>\n",
       "      <td>392943</td>\n",
       "      <td>2021-07-01 10:48:38</td>\n",
       "      <td>2021-07-01 10:56:04</td>\n",
       "      <td>34.173483</td>\n",
       "      <td>275.839777</td>\n",
       "    </tr>\n",
       "    <tr>\n",
       "      <th>710</th>\n",
       "      <td>393272</td>\n",
       "      <td>2021-07-01 10:46:19</td>\n",
       "      <td>2021-07-01 12:01:52</td>\n",
       "      <td>34.566226</td>\n",
       "      <td>27.451668</td>\n",
       "    </tr>\n",
       "    <tr>\n",
       "      <th>890</th>\n",
       "      <td>393572</td>\n",
       "      <td>2021-07-01 11:48:09</td>\n",
       "      <td>2021-07-01 11:52:32</td>\n",
       "      <td>52.840859</td>\n",
       "      <td>723.296929</td>\n",
       "    </tr>\n",
       "    <tr>\n",
       "      <th>...</th>\n",
       "      <td>...</td>\n",
       "      <td>...</td>\n",
       "      <td>...</td>\n",
       "      <td>...</td>\n",
       "      <td>...</td>\n",
       "    </tr>\n",
       "    <tr>\n",
       "      <th>533461</th>\n",
       "      <td>1635540</td>\n",
       "      <td>2021-12-30 15:21:21</td>\n",
       "      <td>2021-12-30 18:11:25</td>\n",
       "      <td>36.400508</td>\n",
       "      <td>12.842202</td>\n",
       "    </tr>\n",
       "    <tr>\n",
       "      <th>533632</th>\n",
       "      <td>1635943</td>\n",
       "      <td>2021-12-30 15:43:43</td>\n",
       "      <td>2021-12-31 06:19:45</td>\n",
       "      <td>37.150996</td>\n",
       "      <td>2.544492</td>\n",
       "    </tr>\n",
       "    <tr>\n",
       "      <th>533827</th>\n",
       "      <td>1636462</td>\n",
       "      <td>2021-12-30 16:38:05</td>\n",
       "      <td>2021-12-30 18:18:23</td>\n",
       "      <td>35.019266</td>\n",
       "      <td>20.948714</td>\n",
       "    </tr>\n",
       "    <tr>\n",
       "      <th>534015</th>\n",
       "      <td>1636884</td>\n",
       "      <td>2021-12-30 17:41:36</td>\n",
       "      <td>2021-12-30 21:40:28</td>\n",
       "      <td>37.531234</td>\n",
       "      <td>9.427326</td>\n",
       "    </tr>\n",
       "    <tr>\n",
       "      <th>534040</th>\n",
       "      <td>1636942</td>\n",
       "      <td>2021-12-30 17:22:45</td>\n",
       "      <td>2021-12-30 20:26:00</td>\n",
       "      <td>37.180644</td>\n",
       "      <td>12.173744</td>\n",
       "    </tr>\n",
       "  </tbody>\n",
       "</table>\n",
       "<p>5951 rows × 5 columns</p>\n",
       "</div>"
      ],
      "text/plain": [
       "        order_id      Trip Start Time        Trip End Time   distance  \\\n",
       "20        392040  2021-07-01 10:15:03  2021-07-01 13:52:01  35.223180   \n",
       "132       392276  2021-07-01 08:27:57  2021-07-01 10:10:38  38.145450   \n",
       "517       392943  2021-07-01 10:48:38  2021-07-01 10:56:04  34.173483   \n",
       "710       393272  2021-07-01 10:46:19  2021-07-01 12:01:52  34.566226   \n",
       "890       393572  2021-07-01 11:48:09  2021-07-01 11:52:32  52.840859   \n",
       "...          ...                  ...                  ...        ...   \n",
       "533461   1635540  2021-12-30 15:21:21  2021-12-30 18:11:25  36.400508   \n",
       "533632   1635943  2021-12-30 15:43:43  2021-12-31 06:19:45  37.150996   \n",
       "533827   1636462  2021-12-30 16:38:05  2021-12-30 18:18:23  35.019266   \n",
       "534015   1636884  2021-12-30 17:41:36  2021-12-30 21:40:28  37.531234   \n",
       "534040   1636942  2021-12-30 17:22:45  2021-12-30 20:26:00  37.180644   \n",
       "\n",
       "             speed  \n",
       "20        9.740624  \n",
       "132      22.289177  \n",
       "517     275.839777  \n",
       "710      27.451668  \n",
       "890     723.296929  \n",
       "...            ...  \n",
       "533461   12.842202  \n",
       "533632    2.544492  \n",
       "533827   20.948714  \n",
       "534015    9.427326  \n",
       "534040   12.173744  \n",
       "\n",
       "[5951 rows x 5 columns]"
      ]
     },
     "execution_count": 30,
     "metadata": {},
     "output_type": "execute_result"
    }
   ],
   "source": [
    "df_distance_outliers[['order_id', 'Trip Start Time', 'Trip End Time', 'distance', 'speed']]\n"
   ]
  },
  {
   "cell_type": "code",
   "execution_count": 31,
   "metadata": {},
   "outputs": [
    {
     "name": "stderr",
     "output_type": "stream",
     "text": [
      "/tmp/ipykernel_6802/1915138890.py:4: SettingWithCopyWarning:\n",
      "\n",
      "\n",
      "A value is trying to be set on a copy of a slice from a DataFrame.\n",
      "Try using .loc[row_indexer,col_indexer] = value instead\n",
      "\n",
      "See the caveats in the documentation: https://pandas.pydata.org/pandas-docs/stable/user_guide/indexing.html#returning-a-view-versus-a-copy\n",
      "\n",
      "/tmp/ipykernel_6802/1915138890.py:5: SettingWithCopyWarning:\n",
      "\n",
      "\n",
      "A value is trying to be set on a copy of a slice from a DataFrame.\n",
      "Try using .loc[row_indexer,col_indexer] = value instead\n",
      "\n",
      "See the caveats in the documentation: https://pandas.pydata.org/pandas-docs/stable/user_guide/indexing.html#returning-a-view-versus-a-copy\n",
      "\n"
     ]
    },
    {
     "data": {
      "image/png": "[encoded data removed]",
      "text/plain": [
       "<Figure size 640x480 with 1 Axes>"
      ]
     },
     "metadata": {},
     "output_type": "display_data"
    }
   ],
   "source": [
    "import matplotlib.pyplot as plt\n",
    "\n",
    "# Convert Trip Start Time and Trip End Time to datetime format\n",
    "df_distance_outliers['Trip Start Time'] = pd.to_datetime(df_distance_outliers['Trip Start Time'])\n",
    "df_distance_outliers['Trip End Time'] = pd.to_datetime(df_distance_outliers['Trip End Time'])\n",
    "\n",
    "# Calculate trip duration\n",
    "trip_durations = (df_distance_outliers['Trip End Time'] - df_distance_outliers['Trip Start Time']).dt.total_seconds() / 3600\n",
    "\n",
    "# Plot the scatter plot\n",
    "plt.scatter(df_distance_outliers['distance'], trip_durations)\n",
    "plt.xlabel('Distance (km)')\n",
    "plt.ylabel('Trip Duration (hours)')\n",
    "plt.title('Relationship between Distance and Trip Duration for Outlier Distances')\n",
    "plt.show()"
   ]
  },
  {
   "cell_type": "markdown",
   "metadata": {},
   "source": [
    "### Remove entire rows with outlier on distance column"
   ]
  },
  {
   "cell_type": "code",
   "execution_count": 32,
   "metadata": {},
   "outputs": [],
   "source": [
    "df_clean_trip = data_processer.remove_outliers(cleaned_trips_df, 'distance')\n",
    "\n",
    "\n",
    "##RUN IT LATER"
   ]
  },
  {
   "cell_type": "code",
   "execution_count": 33,
   "metadata": {},
   "outputs": [
    {
     "data": {
      "image/png": "[encoded data removed]",
      "text/plain": [
       "<Figure size 1200x700 with 1 Axes>"
      ]
     },
     "metadata": {},
     "output_type": "display_data"
    }
   ],
   "source": [
    "plotter.plot_box(df_clean_trip, \"distance\", f\"Boxplot of {'distance'} with Outliers\")"
   ]
  },
  {
   "cell_type": "code",
   "execution_count": 34,
   "metadata": {},
   "outputs": [
    {
     "data": {
      "text/plain": [
       "(528420, 9)"
      ]
     },
     "execution_count": 34,
     "metadata": {},
     "output_type": "execute_result"
    }
   ],
   "source": [
    "df_clean_trip.shape"
   ]
  },
  {
   "cell_type": "markdown",
   "metadata": {},
   "source": [
    "## Speed"
   ]
  },
  {
   "cell_type": "code",
   "execution_count": 35,
   "metadata": {},
   "outputs": [
    {
     "data": {
      "text/plain": [
       "speed\n",
       "0.000000      126\n",
       "109.417117      3\n",
       "744.469810      3\n",
       "1.475404        2\n",
       "31.422211       2\n",
       "             ... \n",
       "13.350979       1\n",
       "727.748995      1\n",
       "6.209781        1\n",
       "21.362164       1\n",
       "15.211900       1\n",
       "Name: count, Length: 534126, dtype: int64"
      ]
     },
     "execution_count": 35,
     "metadata": {},
     "output_type": "execute_result"
    }
   ],
   "source": [
    "cleaned_trips_df['speed'].value_counts()"
   ]
  },
  {
   "cell_type": "code",
   "execution_count": 36,
   "metadata": {},
   "outputs": [
    {
     "data": {
      "text/plain": [
       "count    534368.000000\n",
       "mean         26.570109\n",
       "std         244.737556\n",
       "min           0.000000\n",
       "25%           6.876641\n",
       "50%          11.137487\n",
       "75%          16.815436\n",
       "max       66498.868759\n",
       "Name: speed, dtype: float64"
      ]
     },
     "execution_count": 36,
     "metadata": {},
     "output_type": "execute_result"
    }
   ],
   "source": [
    "cleaned_trips_df['speed'].describe()\n",
    "\n"
   ]
  },
  {
   "cell_type": "code",
   "execution_count": 37,
   "metadata": {},
   "outputs": [
    {
     "name": "stdout",
     "output_type": "stream",
     "text": [
      "Lower bound for outliers: -8.03\n",
      "Upper bound for outliers: 31.72\n",
      "Data points above upper bound (31.72): 38706\n",
      "Data points below lower bound (-8.03): 0\n"
     ]
    }
   ],
   "source": [
    "data_processer.detect_outliers(cleaned_trips_df, \"speed\")\n",
    "data_processer.count_outliers(cleaned_trips_df, \"speed\")"
   ]
  },
  {
   "cell_type": "markdown",
   "metadata": {},
   "source": [
    "## Request Data"
   ]
  },
  {
   "cell_type": "code",
   "execution_count": 38,
   "metadata": {},
   "outputs": [
    {
     "data": {
      "image/png": "[encoded data removed]",
      "text/plain": [
       "<Figure size 1200x700 with 1 Axes>"
      ]
     },
     "metadata": {},
     "output_type": "display_data"
    }
   ],
   "source": [
    "plotter.plot_count(cleaned_requests_df, 'driver_action')"
   ]
  },
  {
   "cell_type": "code",
   "execution_count": 39,
   "metadata": {},
   "outputs": [],
   "source": [
    "# plotter.plotly_plot_scatter(cleaned_requests_df, 'lng', 'lat', marker_size=5, hover=['driver_action'])"
   ]
  },
  {
   "cell_type": "code",
   "execution_count": 40,
   "metadata": {},
   "outputs": [],
   "source": [
    "# import matplotlib.pyplot as plt\n",
    "\n",
    "# def plot_driver_action_lat(df):\n",
    "#     plt.figure(figsize=(12, 7))\n",
    "#     for action in df['driver_action'].unique():\n",
    "#         df_action = df[df['driver_action'] == action]\n",
    "#         plt.bar(df_action['lat'], df_action['lat'].count(), label=action)\n",
    "#     plt.title('Distribution of Driver Actions along Latitude')\n",
    "#     plt.xlabel('Latitude')\n",
    "#     plt.ylabel('Count of Driver Actions')\n",
    "#     plt.legend()\n",
    "#     plt.show()\n",
    "\n",
    "# plot_driver_action_lat(cleaned_requests_df)"
   ]
  },
  {
   "cell_type": "code",
   "execution_count": 43,
   "metadata": {},
   "outputs": [
    {
     "data": {
      "text/html": [
       "<div>\n",
       "<style scoped>\n",
       "    .dataframe tbody tr th:only-of-type {\n",
       "        vertical-align: middle;\n",
       "    }\n",
       "\n",
       "    .dataframe tbody tr th {\n",
       "        vertical-align: top;\n",
       "    }\n",
       "\n",
       "    .dataframe thead th {\n",
       "        text-align: right;\n",
       "    }\n",
       "</style>\n",
       "<table border=\"1\" class=\"dataframe\">\n",
       "  <thead>\n",
       "    <tr style=\"text-align: right;\">\n",
       "      <th></th>\n",
       "      <th>order_id</th>\n",
       "      <th>Trip Origin</th>\n",
       "      <th>Trip Destination</th>\n",
       "      <th>Trip Start Time</th>\n",
       "      <th>Trip End Time</th>\n",
       "      <th>is_weekend</th>\n",
       "      <th>is_holiday</th>\n",
       "      <th>distance</th>\n",
       "      <th>speed</th>\n",
       "    </tr>\n",
       "  </thead>\n",
       "  <tbody>\n",
       "    <tr>\n",
       "      <th>0</th>\n",
       "      <td>391996</td>\n",
       "      <td>6.508813001668548,3.37740316890347</td>\n",
       "      <td>6.650969799999999,3.3450307</td>\n",
       "      <td>2021-07-01 07:28:04</td>\n",
       "      <td>2021-07-01 07:29:37</td>\n",
       "      <td>0</td>\n",
       "      <td>0</td>\n",
       "      <td>16.123451</td>\n",
       "      <td>624.133590</td>\n",
       "    </tr>\n",
       "    <tr>\n",
       "      <th>1</th>\n",
       "      <td>391997</td>\n",
       "      <td>6.4316714,3.4555375</td>\n",
       "      <td>6.4280814653326,3.4721885847586</td>\n",
       "      <td>2021-07-01 06:38:04</td>\n",
       "      <td>2021-07-01 07:07:28</td>\n",
       "      <td>0</td>\n",
       "      <td>0</td>\n",
       "      <td>1.884305</td>\n",
       "      <td>3.845521</td>\n",
       "    </tr>\n",
       "    <tr>\n",
       "      <th>2</th>\n",
       "      <td>391998</td>\n",
       "      <td>6.631679399999999,3.3388976</td>\n",
       "      <td>6.508324099999999,3.3590397</td>\n",
       "      <td>2021-07-01 06:21:02</td>\n",
       "      <td>2021-07-01 07:02:23</td>\n",
       "      <td>0</td>\n",
       "      <td>0</td>\n",
       "      <td>13.822393</td>\n",
       "      <td>20.056676</td>\n",
       "    </tr>\n",
       "    <tr>\n",
       "      <th>3</th>\n",
       "      <td>391999</td>\n",
       "      <td>6.572757200000001,3.3677082</td>\n",
       "      <td>6.584881099999999,3.3614073</td>\n",
       "      <td>2021-07-01 07:16:07</td>\n",
       "      <td>2021-07-01 07:29:42</td>\n",
       "      <td>0</td>\n",
       "      <td>0</td>\n",
       "      <td>1.511034</td>\n",
       "      <td>6.674507</td>\n",
       "    </tr>\n",
       "    <tr>\n",
       "      <th>4</th>\n",
       "      <td>392001</td>\n",
       "      <td>6.6010417,3.2766339</td>\n",
       "      <td>6.4501069,3.3916154</td>\n",
       "      <td>2021-07-01 09:30:59</td>\n",
       "      <td>2021-07-01 09:34:36</td>\n",
       "      <td>0</td>\n",
       "      <td>0</td>\n",
       "      <td>20.984319</td>\n",
       "      <td>348.126952</td>\n",
       "    </tr>\n",
       "    <tr>\n",
       "      <th>...</th>\n",
       "      <td>...</td>\n",
       "      <td>...</td>\n",
       "      <td>...</td>\n",
       "      <td>...</td>\n",
       "      <td>...</td>\n",
       "      <td>...</td>\n",
       "      <td>...</td>\n",
       "      <td>...</td>\n",
       "      <td>...</td>\n",
       "    </tr>\n",
       "    <tr>\n",
       "      <th>534363</th>\n",
       "      <td>1637696</td>\n",
       "      <td>6.448218499999999,3.4772075</td>\n",
       "      <td>6.437787399999999,3.481670199999999</td>\n",
       "      <td>2021-12-30 20:35:06</td>\n",
       "      <td>2021-12-30 21:02:59</td>\n",
       "      <td>0</td>\n",
       "      <td>0</td>\n",
       "      <td>1.254752</td>\n",
       "      <td>2.700005</td>\n",
       "    </tr>\n",
       "    <tr>\n",
       "      <th>534364</th>\n",
       "      <td>1637702</td>\n",
       "      <td>6.442320899999999,3.4736868</td>\n",
       "      <td>6.436589333407897,3.5559738188407835</td>\n",
       "      <td>2021-12-30 20:48:13</td>\n",
       "      <td>2021-12-30 21:43:49</td>\n",
       "      <td>0</td>\n",
       "      <td>0</td>\n",
       "      <td>9.124781</td>\n",
       "      <td>9.846886</td>\n",
       "    </tr>\n",
       "    <tr>\n",
       "      <th>534365</th>\n",
       "      <td>1637704</td>\n",
       "      <td>6.4281982,3.492248</td>\n",
       "      <td>6.448088500000001,3.4775747</td>\n",
       "      <td>2021-12-30 20:51:45</td>\n",
       "      <td>2021-12-30 21:41:32</td>\n",
       "      <td>0</td>\n",
       "      <td>0</td>\n",
       "      <td>2.733704</td>\n",
       "      <td>3.294722</td>\n",
       "    </tr>\n",
       "    <tr>\n",
       "      <th>534366</th>\n",
       "      <td>1637705</td>\n",
       "      <td>6.5869296,3.3632966</td>\n",
       "      <td>6.637906899999999,3.3339515</td>\n",
       "      <td>2021-12-30 20:48:50</td>\n",
       "      <td>2021-12-30 21:08:28</td>\n",
       "      <td>0</td>\n",
       "      <td>0</td>\n",
       "      <td>6.504796</td>\n",
       "      <td>19.878833</td>\n",
       "    </tr>\n",
       "    <tr>\n",
       "      <th>534367</th>\n",
       "      <td>1637709</td>\n",
       "      <td>6.647209999999999,3.4851489</td>\n",
       "      <td>6.454915198823159,3.555839938365194</td>\n",
       "      <td>2021-12-30 20:55:38</td>\n",
       "      <td>2021-12-30 22:25:00</td>\n",
       "      <td>0</td>\n",
       "      <td>0</td>\n",
       "      <td>22.657280</td>\n",
       "      <td>15.211900</td>\n",
       "    </tr>\n",
       "  </tbody>\n",
       "</table>\n",
       "<p>528420 rows × 9 columns</p>\n",
       "</div>"
      ],
      "text/plain": [
       "        order_id                         Trip Origin  \\\n",
       "0         391996  6.508813001668548,3.37740316890347   \n",
       "1         391997                 6.4316714,3.4555375   \n",
       "2         391998         6.631679399999999,3.3388976   \n",
       "3         391999         6.572757200000001,3.3677082   \n",
       "4         392001                 6.6010417,3.2766339   \n",
       "...          ...                                 ...   \n",
       "534363   1637696         6.448218499999999,3.4772075   \n",
       "534364   1637702         6.442320899999999,3.4736868   \n",
       "534365   1637704                  6.4281982,3.492248   \n",
       "534366   1637705                 6.5869296,3.3632966   \n",
       "534367   1637709         6.647209999999999,3.4851489   \n",
       "\n",
       "                            Trip Destination      Trip Start Time  \\\n",
       "0                6.650969799999999,3.3450307  2021-07-01 07:28:04   \n",
       "1            6.4280814653326,3.4721885847586  2021-07-01 06:38:04   \n",
       "2                6.508324099999999,3.3590397  2021-07-01 06:21:02   \n",
       "3                6.584881099999999,3.3614073  2021-07-01 07:16:07   \n",
       "4                        6.4501069,3.3916154  2021-07-01 09:30:59   \n",
       "...                                      ...                  ...   \n",
       "534363   6.437787399999999,3.481670199999999  2021-12-30 20:35:06   \n",
       "534364  6.436589333407897,3.5559738188407835  2021-12-30 20:48:13   \n",
       "534365           6.448088500000001,3.4775747  2021-12-30 20:51:45   \n",
       "534366           6.637906899999999,3.3339515  2021-12-30 20:48:50   \n",
       "534367   6.454915198823159,3.555839938365194  2021-12-30 20:55:38   \n",
       "\n",
       "              Trip End Time  is_weekend  is_holiday   distance       speed  \n",
       "0       2021-07-01 07:29:37           0           0  16.123451  624.133590  \n",
       "1       2021-07-01 07:07:28           0           0   1.884305    3.845521  \n",
       "2       2021-07-01 07:02:23           0           0  13.822393   20.056676  \n",
       "3       2021-07-01 07:29:42           0           0   1.511034    6.674507  \n",
       "4       2021-07-01 09:34:36           0           0  20.984319  348.126952  \n",
       "...                     ...         ...         ...        ...         ...  \n",
       "534363  2021-12-30 21:02:59           0           0   1.254752    2.700005  \n",
       "534364  2021-12-30 21:43:49           0           0   9.124781    9.846886  \n",
       "534365  2021-12-30 21:41:32           0           0   2.733704    3.294722  \n",
       "534366  2021-12-30 21:08:28           0           0   6.504796   19.878833  \n",
       "534367  2021-12-30 22:25:00           0           0  22.657280   15.211900  \n",
       "\n",
       "[528420 rows x 9 columns]"
      ]
     },
     "execution_count": 43,
     "metadata": {},
     "output_type": "execute_result"
    }
   ],
   "source": [
    "df_clean_trip"
   ]
  },
  {
   "cell_type": "code",
   "execution_count": 42,
   "metadata": {},
   "outputs": [],
   "source": [
    "df_clean_trip.to_csv(\"../data/processed/preprocessed_trip.csv\")"
   ]
  },
  {
   "cell_type": "code",
   "execution_count": null,
   "metadata": {},
   "outputs": [],
   "source": []
  }
 ],
 "metadata": {
  "kernelspec": {
   "display_name": "inference_env",
   "language": "python",
   "name": "python3"
  },
  "language_info": {
   "codemirror_mode": {
    "name": "ipython",
    "version": 3
   },
   "file_extension": ".py",
   "mimetype": "text/x-python",
   "name": "python",
   "nbconvert_exporter": "python",
   "pygments_lexer": "ipython3",
   "version": "3.11.5"
  }
 },
 "nbformat": 4,
 "nbformat_minor": 2
}
