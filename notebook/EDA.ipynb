{
 "cells": [
  {
   "cell_type": "markdown",
   "metadata": {},
   "source": [
    "## EDA"
   ]
  },
  {
   "cell_type": "code",
   "execution_count": 14,
   "metadata": {},
   "outputs": [],
   "source": [
    "import pandas as pd\n",
    "import sys, os\n",
    "\n",
    "sys.path.append(os.path.abspath(os.path.join('../utils')))"
   ]
  },
  {
   "cell_type": "code",
   "execution_count": 15,
   "metadata": {},
   "outputs": [],
   "source": [
    "from eda_helpers import EDA\n",
    "from data_processing import DataProcessor\n",
    "from plot import Plotter"
   ]
  },
  {
   "cell_type": "code",
   "execution_count": 16,
   "metadata": {},
   "outputs": [],
   "source": [
    "eda = EDA('../data/processed')\n",
    "eda.load_cleaned_data()\n",
    "plotter=Plotter()"
   ]
  },
  {
   "cell_type": "code",
   "execution_count": 17,
   "metadata": {},
   "outputs": [],
   "source": [
    "data_processer=DataProcessor()"
   ]
  },
  {
   "cell_type": "code",
   "execution_count": 18,
   "metadata": {},
   "outputs": [],
   "source": [
    "cleaned_trips_df = eda.cleaned_trip\n",
    "cleaned_requests_df = eda.cleaned_requests"
   ]
  },
  {
   "cell_type": "code",
   "execution_count": 19,
   "metadata": {},
   "outputs": [
    {
     "data": {
      "text/html": [
       "<div>\n",
       "<style scoped>\n",
       "    .dataframe tbody tr th:only-of-type {\n",
       "        vertical-align: middle;\n",
       "    }\n",
       "\n",
       "    .dataframe tbody tr th {\n",
       "        vertical-align: top;\n",
       "    }\n",
       "\n",
       "    .dataframe thead th {\n",
       "        text-align: right;\n",
       "    }\n",
       "</style>\n",
       "<table border=\"1\" class=\"dataframe\">\n",
       "  <thead>\n",
       "    <tr style=\"text-align: right;\">\n",
       "      <th></th>\n",
       "      <th>order_id</th>\n",
       "      <th>Trip Origin</th>\n",
       "      <th>Trip Destination</th>\n",
       "      <th>Trip Start Time</th>\n",
       "      <th>Trip End Time</th>\n",
       "    </tr>\n",
       "  </thead>\n",
       "  <tbody>\n",
       "    <tr>\n",
       "      <th>0</th>\n",
       "      <td>391996</td>\n",
       "      <td>6.508813001668548,3.37740316890347</td>\n",
       "      <td>6.650969799999999,3.3450307</td>\n",
       "      <td>2021-07-01 07:28:04</td>\n",
       "      <td>2021-07-01 07:29:37</td>\n",
       "    </tr>\n",
       "    <tr>\n",
       "      <th>1</th>\n",
       "      <td>391997</td>\n",
       "      <td>6.4316714,3.4555375</td>\n",
       "      <td>6.4280814653326,3.4721885847586</td>\n",
       "      <td>2021-07-01 06:38:04</td>\n",
       "      <td>2021-07-01 07:07:28</td>\n",
       "    </tr>\n",
       "    <tr>\n",
       "      <th>2</th>\n",
       "      <td>391998</td>\n",
       "      <td>6.631679399999999,3.3388976</td>\n",
       "      <td>6.508324099999999,3.3590397</td>\n",
       "      <td>2021-07-01 06:21:02</td>\n",
       "      <td>2021-07-01 07:02:23</td>\n",
       "    </tr>\n",
       "    <tr>\n",
       "      <th>3</th>\n",
       "      <td>391999</td>\n",
       "      <td>6.572757200000001,3.3677082</td>\n",
       "      <td>6.584881099999999,3.3614073</td>\n",
       "      <td>2021-07-01 07:16:07</td>\n",
       "      <td>2021-07-01 07:29:42</td>\n",
       "    </tr>\n",
       "    <tr>\n",
       "      <th>4</th>\n",
       "      <td>392001</td>\n",
       "      <td>6.6010417,3.2766339</td>\n",
       "      <td>6.4501069,3.3916154</td>\n",
       "      <td>2021-07-01 09:30:59</td>\n",
       "      <td>2021-07-01 09:34:36</td>\n",
       "    </tr>\n",
       "    <tr>\n",
       "      <th>...</th>\n",
       "      <td>...</td>\n",
       "      <td>...</td>\n",
       "      <td>...</td>\n",
       "      <td>...</td>\n",
       "      <td>...</td>\n",
       "    </tr>\n",
       "    <tr>\n",
       "      <th>534363</th>\n",
       "      <td>1637696</td>\n",
       "      <td>6.448218499999999,3.4772075</td>\n",
       "      <td>6.437787399999999,3.481670199999999</td>\n",
       "      <td>2021-12-30 20:35:06</td>\n",
       "      <td>2021-12-30 21:02:59</td>\n",
       "    </tr>\n",
       "    <tr>\n",
       "      <th>534364</th>\n",
       "      <td>1637702</td>\n",
       "      <td>6.442320899999999,3.4736868</td>\n",
       "      <td>6.436589333407897,3.5559738188407835</td>\n",
       "      <td>2021-12-30 20:48:13</td>\n",
       "      <td>2021-12-30 21:43:49</td>\n",
       "    </tr>\n",
       "    <tr>\n",
       "      <th>534365</th>\n",
       "      <td>1637704</td>\n",
       "      <td>6.4281982,3.492248</td>\n",
       "      <td>6.448088500000001,3.4775747</td>\n",
       "      <td>2021-12-30 20:51:45</td>\n",
       "      <td>2021-12-30 21:41:32</td>\n",
       "    </tr>\n",
       "    <tr>\n",
       "      <th>534366</th>\n",
       "      <td>1637705</td>\n",
       "      <td>6.5869296,3.3632966</td>\n",
       "      <td>6.637906899999999,3.3339515</td>\n",
       "      <td>2021-12-30 20:48:50</td>\n",
       "      <td>2021-12-30 21:08:28</td>\n",
       "    </tr>\n",
       "    <tr>\n",
       "      <th>534367</th>\n",
       "      <td>1637709</td>\n",
       "      <td>6.647209999999999,3.4851489</td>\n",
       "      <td>6.454915198823159,3.555839938365194</td>\n",
       "      <td>2021-12-30 20:55:38</td>\n",
       "      <td>2021-12-30 22:25:00</td>\n",
       "    </tr>\n",
       "  </tbody>\n",
       "</table>\n",
       "<p>534368 rows × 5 columns</p>\n",
       "</div>"
      ],
      "text/plain": [
       "        order_id                         Trip Origin  \\\n",
       "0         391996  6.508813001668548,3.37740316890347   \n",
       "1         391997                 6.4316714,3.4555375   \n",
       "2         391998         6.631679399999999,3.3388976   \n",
       "3         391999         6.572757200000001,3.3677082   \n",
       "4         392001                 6.6010417,3.2766339   \n",
       "...          ...                                 ...   \n",
       "534363   1637696         6.448218499999999,3.4772075   \n",
       "534364   1637702         6.442320899999999,3.4736868   \n",
       "534365   1637704                  6.4281982,3.492248   \n",
       "534366   1637705                 6.5869296,3.3632966   \n",
       "534367   1637709         6.647209999999999,3.4851489   \n",
       "\n",
       "                            Trip Destination      Trip Start Time  \\\n",
       "0                6.650969799999999,3.3450307  2021-07-01 07:28:04   \n",
       "1            6.4280814653326,3.4721885847586  2021-07-01 06:38:04   \n",
       "2                6.508324099999999,3.3590397  2021-07-01 06:21:02   \n",
       "3                6.584881099999999,3.3614073  2021-07-01 07:16:07   \n",
       "4                        6.4501069,3.3916154  2021-07-01 09:30:59   \n",
       "...                                      ...                  ...   \n",
       "534363   6.437787399999999,3.481670199999999  2021-12-30 20:35:06   \n",
       "534364  6.436589333407897,3.5559738188407835  2021-12-30 20:48:13   \n",
       "534365           6.448088500000001,3.4775747  2021-12-30 20:51:45   \n",
       "534366           6.637906899999999,3.3339515  2021-12-30 20:48:50   \n",
       "534367   6.454915198823159,3.555839938365194  2021-12-30 20:55:38   \n",
       "\n",
       "              Trip End Time  \n",
       "0       2021-07-01 07:29:37  \n",
       "1       2021-07-01 07:07:28  \n",
       "2       2021-07-01 07:02:23  \n",
       "3       2021-07-01 07:29:42  \n",
       "4       2021-07-01 09:34:36  \n",
       "...                     ...  \n",
       "534363  2021-12-30 21:02:59  \n",
       "534364  2021-12-30 21:43:49  \n",
       "534365  2021-12-30 21:41:32  \n",
       "534366  2021-12-30 21:08:28  \n",
       "534367  2021-12-30 22:25:00  \n",
       "\n",
       "[534368 rows x 5 columns]"
      ]
     },
     "execution_count": 19,
     "metadata": {},
     "output_type": "execute_result"
    }
   ],
   "source": [
    "cleaned_trips_df"
   ]
  },
  {
   "cell_type": "code",
   "execution_count": 20,
   "metadata": {},
   "outputs": [
    {
     "data": {
      "text/html": [
       "<div>\n",
       "<style scoped>\n",
       "    .dataframe tbody tr th:only-of-type {\n",
       "        vertical-align: middle;\n",
       "    }\n",
       "\n",
       "    .dataframe tbody tr th {\n",
       "        vertical-align: top;\n",
       "    }\n",
       "\n",
       "    .dataframe thead th {\n",
       "        text-align: right;\n",
       "    }\n",
       "</style>\n",
       "<table border=\"1\" class=\"dataframe\">\n",
       "  <thead>\n",
       "    <tr style=\"text-align: right;\">\n",
       "      <th></th>\n",
       "      <th>id</th>\n",
       "      <th>order_id</th>\n",
       "      <th>driver_id</th>\n",
       "      <th>driver_action</th>\n",
       "      <th>lat</th>\n",
       "      <th>lng</th>\n",
       "    </tr>\n",
       "  </thead>\n",
       "  <tbody>\n",
       "    <tr>\n",
       "      <th>0</th>\n",
       "      <td>1</td>\n",
       "      <td>392001</td>\n",
       "      <td>243828</td>\n",
       "      <td>accepted</td>\n",
       "      <td>6.602207</td>\n",
       "      <td>3.270465</td>\n",
       "    </tr>\n",
       "    <tr>\n",
       "      <th>1</th>\n",
       "      <td>2</td>\n",
       "      <td>392001</td>\n",
       "      <td>243588</td>\n",
       "      <td>rejected</td>\n",
       "      <td>6.592097</td>\n",
       "      <td>3.287445</td>\n",
       "    </tr>\n",
       "    <tr>\n",
       "      <th>2</th>\n",
       "      <td>3</td>\n",
       "      <td>392001</td>\n",
       "      <td>243830</td>\n",
       "      <td>rejected</td>\n",
       "      <td>6.596133</td>\n",
       "      <td>3.281784</td>\n",
       "    </tr>\n",
       "    <tr>\n",
       "      <th>3</th>\n",
       "      <td>4</td>\n",
       "      <td>392001</td>\n",
       "      <td>243539</td>\n",
       "      <td>rejected</td>\n",
       "      <td>6.596142</td>\n",
       "      <td>3.280526</td>\n",
       "    </tr>\n",
       "    <tr>\n",
       "      <th>4</th>\n",
       "      <td>5</td>\n",
       "      <td>392001</td>\n",
       "      <td>171653</td>\n",
       "      <td>rejected</td>\n",
       "      <td>6.609232</td>\n",
       "      <td>3.288800</td>\n",
       "    </tr>\n",
       "    <tr>\n",
       "      <th>...</th>\n",
       "      <td>...</td>\n",
       "      <td>...</td>\n",
       "      <td>...</td>\n",
       "      <td>...</td>\n",
       "      <td>...</td>\n",
       "      <td>...</td>\n",
       "    </tr>\n",
       "    <tr>\n",
       "      <th>1557735</th>\n",
       "      <td>1557736</td>\n",
       "      <td>517948</td>\n",
       "      <td>243774</td>\n",
       "      <td>rejected</td>\n",
       "      <td>6.469036</td>\n",
       "      <td>3.566877</td>\n",
       "    </tr>\n",
       "    <tr>\n",
       "      <th>1557736</th>\n",
       "      <td>1557737</td>\n",
       "      <td>517948</td>\n",
       "      <td>245447</td>\n",
       "      <td>rejected</td>\n",
       "      <td>6.425431</td>\n",
       "      <td>3.527358</td>\n",
       "    </tr>\n",
       "    <tr>\n",
       "      <th>1557737</th>\n",
       "      <td>1557738</td>\n",
       "      <td>517948</td>\n",
       "      <td>239866</td>\n",
       "      <td>rejected</td>\n",
       "      <td>6.440013</td>\n",
       "      <td>3.525378</td>\n",
       "    </tr>\n",
       "    <tr>\n",
       "      <th>1557738</th>\n",
       "      <td>1557739</td>\n",
       "      <td>517948</td>\n",
       "      <td>243774</td>\n",
       "      <td>rejected</td>\n",
       "      <td>6.469036</td>\n",
       "      <td>3.566877</td>\n",
       "    </tr>\n",
       "    <tr>\n",
       "      <th>1557739</th>\n",
       "      <td>1557740</td>\n",
       "      <td>517948</td>\n",
       "      <td>244170</td>\n",
       "      <td>rejected</td>\n",
       "      <td>6.469390</td>\n",
       "      <td>3.572079</td>\n",
       "    </tr>\n",
       "  </tbody>\n",
       "</table>\n",
       "<p>1557740 rows × 6 columns</p>\n",
       "</div>"
      ],
      "text/plain": [
       "              id  order_id  driver_id driver_action       lat       lng\n",
       "0              1    392001     243828      accepted  6.602207  3.270465\n",
       "1              2    392001     243588      rejected  6.592097  3.287445\n",
       "2              3    392001     243830      rejected  6.596133  3.281784\n",
       "3              4    392001     243539      rejected  6.596142  3.280526\n",
       "4              5    392001     171653      rejected  6.609232  3.288800\n",
       "...          ...       ...        ...           ...       ...       ...\n",
       "1557735  1557736    517948     243774      rejected  6.469036  3.566877\n",
       "1557736  1557737    517948     245447      rejected  6.425431  3.527358\n",
       "1557737  1557738    517948     239866      rejected  6.440013  3.525378\n",
       "1557738  1557739    517948     243774      rejected  6.469036  3.566877\n",
       "1557739  1557740    517948     244170      rejected  6.469390  3.572079\n",
       "\n",
       "[1557740 rows x 6 columns]"
      ]
     },
     "execution_count": 20,
     "metadata": {},
     "output_type": "execute_result"
    }
   ],
   "source": [
    "cleaned_requests_df"
   ]
  },
  {
   "cell_type": "markdown",
   "metadata": {},
   "source": [
    "## Weekend or Weekdays"
   ]
  },
  {
   "cell_type": "code",
   "execution_count": 21,
   "metadata": {},
   "outputs": [],
   "source": [
    "cleaned_trips_df['is_weekend'] = cleaned_trips_df['Trip Start Time'].apply(lambda x: data_processer.isWeekend(x))"
   ]
  },
  {
   "cell_type": "code",
   "execution_count": 22,
   "metadata": {},
   "outputs": [
    {
     "data": {
      "text/plain": [
       "is_weekend\n",
       "0    427181\n",
       "1    107187\n",
       "Name: count, dtype: int64"
      ]
     },
     "execution_count": 22,
     "metadata": {},
     "output_type": "execute_result"
    }
   ],
   "source": [
    "cleaned_trips_df['is_weekend'].value_counts()"
   ]
  },
  {
   "cell_type": "markdown",
   "metadata": {},
   "source": [
    "## chart for weekend"
   ]
  },
  {
   "cell_type": "code",
   "execution_count": 23,
   "metadata": {},
   "outputs": [
    {
     "data": {
      "image/png": "[encoded data removed]",
      "text/plain": [
       "<Figure size 1200x700 with 1 Axes>"
      ]
     },
     "metadata": {},
     "output_type": "display_data"
    }
   ],
   "source": [
    "plotter.plot_count(cleaned_trips_df, 'is_weekend')"
   ]
  },
  {
   "cell_type": "markdown",
   "metadata": {},
   "source": [
    "## Holiday or not Holiday"
   ]
  },
  {
   "cell_type": "code",
   "execution_count": 24,
   "metadata": {},
   "outputs": [],
   "source": [
    "cleaned_trips_df['is_holiday'] = cleaned_trips_df['Trip Start Time'].apply(lambda x: data_processer.isHoliday(x))"
   ]
  },
  {
   "cell_type": "code",
   "execution_count": 25,
   "metadata": {},
   "outputs": [
    {
     "data": {
      "text/plain": [
       "is_holiday\n",
       "0    518151\n",
       "1     16217\n",
       "Name: count, dtype: int64"
      ]
     },
     "execution_count": 25,
     "metadata": {},
     "output_type": "execute_result"
    }
   ],
   "source": [
    "cleaned_trips_df['is_holiday'].value_counts()"
   ]
  },
  {
   "cell_type": "code",
   "execution_count": 27,
   "metadata": {},
   "outputs": [
    {
     "name": "stdout",
     "output_type": "stream",
     "text": [
      "Number of holidays in NG calendar in 2024 : 0\n"
     ]
    }
   ],
   "source": [
    "import holidays\n",
    "\n",
    "ng_holidays = holidays.country_holidays('NG')\n",
    "\n",
    "year = 2021  # Replace with the desired year\n",
    "\n",
    "holidays_in_year = [(date, name) for date, name in ng_holidays.items() if date.year == year]\n",
    "\n",
    "print(\"Number of holidays in NG calendar in\", year, \":\", len(holidays_in_year))"
   ]
  }
 ],
 "metadata": {
  "kernelspec": {
   "display_name": "inference_env",
   "language": "python",
   "name": "python3"
  },
  "language_info": {
   "codemirror_mode": {
    "name": "ipython",
    "version": 3
   },
   "file_extension": ".py",
   "mimetype": "text/x-python",
   "name": "python",
   "nbconvert_exporter": "python",
   "pygments_lexer": "ipython3",
   "version": "3.11.5"
  }
 },
 "nbformat": 4,
 "nbformat_minor": 2
}
