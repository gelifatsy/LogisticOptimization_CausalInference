{
 "cells": [
  {
   "cell_type": "markdown",
   "metadata": {},
   "source": [
    "# Route and route_distance"
   ]
  },
  {
   "cell_type": "code",
   "execution_count": 16,
   "metadata": {},
   "outputs": [],
   "source": [
    "import pandas as pd\n",
    "import sys, os\n",
    "\n",
    "sys.path.append(os.path.abspath(os.path.join('../utils')))\n"
   ]
  },
  {
   "cell_type": "code",
   "execution_count": 17,
   "metadata": {},
   "outputs": [],
   "source": [
    "import os\n",
    "from dotenv import load_dotenv\n",
    "\n",
    "load_dotenv()  # Load environment variables from .env file\n",
    "\n",
    "ors_api_key = os.getenv(\"YOUR_OPENROUTE_SERVICE_API_KEY\")"
   ]
  },
  {
   "cell_type": "code",
   "execution_count": 18,
   "metadata": {},
   "outputs": [],
   "source": [
    "from route_helper import RoutePlanner\n",
    "import openrouteservice\n",
    "\n"
   ]
  },
  {
   "cell_type": "code",
   "execution_count": 19,
   "metadata": {},
   "outputs": [],
   "source": [
    "\n",
    "client = openrouteservice.Client(key=ors_api_key)\n",
    "route_planner = RoutePlanner(client)"
   ]
  },
  {
   "cell_type": "code",
   "execution_count": 20,
   "metadata": {},
   "outputs": [],
   "source": [
    "\n",
    "lat1, lon1 = 6.4316714, 3.4555375  # Start point\n",
    "lat2, lon2 = 6.4280814653326, 3.4721885847586  # End point\n",
    "trip_id = \"Trip 123\"\n",
    "profile = \"cycling-road\"  # or \"driving-car\" or \"foot-walking\"\n",
    "view = \"satellite\"  # or \"streets\""
   ]
  },
  {
   "cell_type": "code",
   "execution_count": 24,
   "metadata": {},
   "outputs": [],
   "source": [
    "folium_map, distance = route_planner.get_route(lat1, lon1, lat2, lon2, \"Trip 123\", profile, view)"
   ]
  },
  {
   "cell_type": "code",
   "execution_count": 25,
   "metadata": {},
   "outputs": [
    {
     "name": "stdout",
     "output_type": "stream",
     "text": [
      "Distance: 2.15 km\n"
     ]
    }
   ],
   "source": [
    "print(f\"Distance: {distance:.2f} km\")"
   ]
  },
  {
   "cell_type": "code",
   "execution_count": 26,
   "metadata": {},
   "outputs": [
    {
     "data": {
      "text/html": [
       "<div style=\"width:100%;\"><div style=\"position:relative;width:100%;height:0;padding-bottom:60%;\"><span style=\"color:#565656\">Make this Notebook Trusted to load map: File -> Trust Notebook</span><iframe srcdoc=\"&lt;!DOCTYPE html&gt;\n",
       "&lt;html&gt;\n",
       "&lt;head&gt;\n",
       "    \n",
       "    &lt;meta http-equiv=&quot;content-type&quot; content=&quot;text/html; charset=UTF-8&quot; /&gt;\n",
       "    \n",
       "        &lt;script&gt;\n",
       "            L_NO_TOUCH = false;\n",
       "            L_DISABLE_3D = false;\n",
       "        &lt;/script&gt;\n",
       "    \n",
       "    &lt;style&gt;html, body {width: 100%;height: 100%;margin: 0;padding: 0;}&lt;/style&gt;\n",
       "    &lt;style&gt;#map {position:absolute;top:0;bottom:0;right:0;left:0;}&lt;/style&gt;\n",
       "    &lt;script src=&quot;https://cdn.jsdelivr.net/npm/leaflet@1.9.3/dist/leaflet.js&quot;&gt;&lt;/script&gt;\n",
       "    &lt;script src=&quot;https://code.jquery.com/jquery-3.7.1.min.js&quot;&gt;&lt;/script&gt;\n",
       "    &lt;script src=&quot;https://cdn.jsdelivr.net/npm/bootstrap@5.2.2/dist/js/bootstrap.bundle.min.js&quot;&gt;&lt;/script&gt;\n",
       "    &lt;script src=&quot;https://cdnjs.cloudflare.com/ajax/libs/Leaflet.awesome-markers/2.0.2/leaflet.awesome-markers.js&quot;&gt;&lt;/script&gt;\n",
       "    &lt;link rel=&quot;stylesheet&quot; href=&quot;https://cdn.jsdelivr.net/npm/leaflet@1.9.3/dist/leaflet.css&quot;/&gt;\n",
       "    &lt;link rel=&quot;stylesheet&quot; href=&quot;https://cdn.jsdelivr.net/npm/bootstrap@5.2.2/dist/css/bootstrap.min.css&quot;/&gt;\n",
       "    &lt;link rel=&quot;stylesheet&quot; href=&quot;https://netdna.bootstrapcdn.com/bootstrap/3.0.0/css/bootstrap.min.css&quot;/&gt;\n",
       "    &lt;link rel=&quot;stylesheet&quot; href=&quot;https://cdn.jsdelivr.net/npm/@fortawesome/fontawesome-free@6.2.0/css/all.min.css&quot;/&gt;\n",
       "    &lt;link rel=&quot;stylesheet&quot; href=&quot;https://cdnjs.cloudflare.com/ajax/libs/Leaflet.awesome-markers/2.0.2/leaflet.awesome-markers.css&quot;/&gt;\n",
       "    &lt;link rel=&quot;stylesheet&quot; href=&quot;https://cdn.jsdelivr.net/gh/python-visualization/folium/folium/templates/leaflet.awesome.rotate.min.css&quot;/&gt;\n",
       "    \n",
       "            &lt;meta name=&quot;viewport&quot; content=&quot;width=device-width,\n",
       "                initial-scale=1.0, maximum-scale=1.0, user-scalable=no&quot; /&gt;\n",
       "            &lt;style&gt;\n",
       "                #map_f6b37e622e5074e67209fa98b6b5429b {\n",
       "                    position: relative;\n",
       "                    width: 100.0%;\n",
       "                    height: 100.0%;\n",
       "                    left: 0.0%;\n",
       "                    top: 0.0%;\n",
       "                }\n",
       "                .leaflet-container { font-size: 1rem; }\n",
       "            &lt;/style&gt;\n",
       "        \n",
       "&lt;/head&gt;\n",
       "&lt;body&gt;\n",
       "    \n",
       "    \n",
       "            &lt;div class=&quot;folium-map&quot; id=&quot;map_f6b37e622e5074e67209fa98b6b5429b&quot; &gt;&lt;/div&gt;\n",
       "        \n",
       "&lt;/body&gt;\n",
       "&lt;script&gt;\n",
       "    \n",
       "    \n",
       "            var map_f6b37e622e5074e67209fa98b6b5429b = L.map(\n",
       "                &quot;map_f6b37e622e5074e67209fa98b6b5429b&quot;,\n",
       "                {\n",
       "                    center: [6.4316714, 3.4555375],\n",
       "                    crs: L.CRS.EPSG3857,\n",
       "                    zoom: 10,\n",
       "                    zoomControl: true,\n",
       "                    preferCanvas: false,\n",
       "                }\n",
       "            );\n",
       "\n",
       "            \n",
       "\n",
       "        \n",
       "    \n",
       "            var tile_layer_7fd5bf159a694d53e82ee4b7870850a3 = L.tileLayer(\n",
       "                &quot;https://server.arcgisonline.com/ArcGIS/rest/services/World_Imagery/MapServer/tile/{z}/{y}/{x}&quot;,\n",
       "                {&quot;attribution&quot;: &quot;Tiles \\u0026copy; Esri \\u0026mdash; Source: Esri, i-cubed, USDA, USGS, AEX, GeoEye, Getmapping, Aerogrid, IGN, IGP, UPR-EGP, and the GIS User Community&quot;, &quot;detectRetina&quot;: false, &quot;maxNativeZoom&quot;: 18, &quot;maxZoom&quot;: 18, &quot;minZoom&quot;: 0, &quot;noWrap&quot;: false, &quot;opacity&quot;: 1, &quot;subdomains&quot;: &quot;abc&quot;, &quot;tms&quot;: false}\n",
       "            );\n",
       "        \n",
       "    \n",
       "            tile_layer_7fd5bf159a694d53e82ee4b7870850a3.addTo(map_f6b37e622e5074e67209fa98b6b5429b);\n",
       "        \n",
       "    \n",
       "            var poly_line_c422fcb79fc69ac88b516830e76509af = L.polyline(\n",
       "                [[6.431668, 3.455448], [6.431055, 3.45547], [6.43067, 3.455483], [6.430376, 3.455492], [6.430413, 3.456958], [6.429255, 3.457015], [6.428803, 3.457022], [6.428846, 3.458036], [6.428875, 3.458695], [6.42892, 3.459764], [6.428942, 3.460286], [6.428971, 3.460939], [6.429028, 3.46227], [6.429047, 3.462713], [6.429065, 3.463151], [6.429087, 3.463656], [6.4291, 3.463955], [6.429112, 3.46433], [6.429132, 3.464715], [6.429143, 3.46497], [6.429176, 3.465745], [6.429203, 3.466373], [6.429239, 3.467208], [6.429267, 3.467869], [6.429278, 3.468119], [6.427817, 3.46818], [6.427818, 3.468257], [6.427844, 3.470272], [6.427686, 3.470284], [6.427702, 3.470507]],\n",
       "                {&quot;bubblingMouseEvents&quot;: true, &quot;color&quot;: &quot;blue&quot;, &quot;dashArray&quot;: null, &quot;dashOffset&quot;: null, &quot;fill&quot;: false, &quot;fillColor&quot;: &quot;blue&quot;, &quot;fillOpacity&quot;: 0.2, &quot;fillRule&quot;: &quot;evenodd&quot;, &quot;lineCap&quot;: &quot;round&quot;, &quot;lineJoin&quot;: &quot;round&quot;, &quot;noClip&quot;: false, &quot;opacity&quot;: 1.0, &quot;smoothFactor&quot;: 1.0, &quot;stroke&quot;: true, &quot;weight&quot;: 3}\n",
       "            ).addTo(map_f6b37e622e5074e67209fa98b6b5429b);\n",
       "        \n",
       "    \n",
       "            var poly_line_ba0d02cbe70df55f3c3dafddf3dfebdb = L.polyline(\n",
       "                [[6.431668, 3.455448], [6.430376, 3.455492], [6.430413, 3.456958], [6.428803, 3.457022], [6.429278, 3.468119], [6.427817, 3.46818], [6.427844, 3.470272], [6.427686, 3.470284], [6.427702, 3.470507]],\n",
       "                {&quot;bubblingMouseEvents&quot;: true, &quot;color&quot;: &quot;red&quot;, &quot;dashArray&quot;: null, &quot;dashOffset&quot;: null, &quot;fill&quot;: false, &quot;fillColor&quot;: &quot;red&quot;, &quot;fillOpacity&quot;: 0.2, &quot;fillRule&quot;: &quot;evenodd&quot;, &quot;lineCap&quot;: &quot;round&quot;, &quot;lineJoin&quot;: &quot;round&quot;, &quot;noClip&quot;: false, &quot;opacity&quot;: 1.0, &quot;smoothFactor&quot;: 1.0, &quot;stroke&quot;: true, &quot;weight&quot;: 3}\n",
       "            ).addTo(map_f6b37e622e5074e67209fa98b6b5429b);\n",
       "        \n",
       "    \n",
       "            var marker_2a2146f0b6f3db5f615d621424097110 = L.marker(\n",
       "                [6.4316714, 3.4555375],\n",
       "                {}\n",
       "            ).addTo(map_f6b37e622e5074e67209fa98b6b5429b);\n",
       "        \n",
       "    \n",
       "        var popup_46043c08d10680632736bda86a19798c = L.popup({&quot;maxWidth&quot;: &quot;100%&quot;});\n",
       "\n",
       "        \n",
       "            \n",
       "                var html_db391f810df4a1fa9a62e6a7469e1e40 = $(`&lt;div id=&quot;html_db391f810df4a1fa9a62e6a7469e1e40&quot; style=&quot;width: 100.0%; height: 100.0%;&quot;&gt;Start: Trip 123&lt;/div&gt;`)[0];\n",
       "                popup_46043c08d10680632736bda86a19798c.setContent(html_db391f810df4a1fa9a62e6a7469e1e40);\n",
       "            \n",
       "        \n",
       "\n",
       "        marker_2a2146f0b6f3db5f615d621424097110.bindPopup(popup_46043c08d10680632736bda86a19798c)\n",
       "        ;\n",
       "\n",
       "        \n",
       "    \n",
       "    \n",
       "            var marker_df8fcb5b91669d074d537b642e5603bc = L.marker(\n",
       "                [6.4280814653326, 3.4721885847586],\n",
       "                {}\n",
       "            ).addTo(map_f6b37e622e5074e67209fa98b6b5429b);\n",
       "        \n",
       "    \n",
       "        var popup_6d9c95ab0285e40de58c104ce4beb852 = L.popup({&quot;maxWidth&quot;: &quot;100%&quot;});\n",
       "\n",
       "        \n",
       "            \n",
       "                var html_08469ea555f9f63b1d83ede2aa525a07 = $(`&lt;div id=&quot;html_08469ea555f9f63b1d83ede2aa525a07&quot; style=&quot;width: 100.0%; height: 100.0%;&quot;&gt;End: Trip 123&lt;/div&gt;`)[0];\n",
       "                popup_6d9c95ab0285e40de58c104ce4beb852.setContent(html_08469ea555f9f63b1d83ede2aa525a07);\n",
       "            \n",
       "        \n",
       "\n",
       "        marker_df8fcb5b91669d074d537b642e5603bc.bindPopup(popup_6d9c95ab0285e40de58c104ce4beb852)\n",
       "        ;\n",
       "\n",
       "        \n",
       "    \n",
       "    \n",
       "            map_f6b37e622e5074e67209fa98b6b5429b.fitBounds(\n",
       "                [[6.4280814653326, 3.4555375], [6.4316714, 3.4721885847586]],\n",
       "                {}\n",
       "            );\n",
       "        \n",
       "&lt;/script&gt;\n",
       "&lt;/html&gt;\" style=\"position:absolute;width:100%;height:100%;left:0;top:0;border:none !important;\" allowfullscreen webkitallowfullscreen mozallowfullscreen></iframe></div></div>"
      ],
      "text/plain": [
       "<folium.folium.Map at 0x7f5428ab3110>"
      ]
     },
     "execution_count": 26,
     "metadata": {},
     "output_type": "execute_result"
    }
   ],
   "source": [
    "folium_map"
   ]
  }
 ],
 "metadata": {
  "kernelspec": {
   "display_name": "inference_env",
   "language": "python",
   "name": "python3"
  },
  "language_info": {
   "codemirror_mode": {
    "name": "ipython",
    "version": 3
   },
   "file_extension": ".py",
   "mimetype": "text/x-python",
   "name": "python",
   "nbconvert_exporter": "python",
   "pygments_lexer": "ipython3",
   "version": "3.11.5"
  }
 },
 "nbformat": 4,
 "nbformat_minor": 2
}
